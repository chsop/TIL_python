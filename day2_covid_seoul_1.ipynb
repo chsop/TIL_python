{
 "cells": [
  {
   "cell_type": "code",
   "execution_count": null,
   "metadata": {},
   "outputs": [],
   "source": [
    "# 출처 : 유튜브 오늘코드 박조은 강사님 강의"
   ]
  },
  {
   "cell_type": "code",
   "execution_count": null,
   "metadata": {},
   "outputs": [],
   "source": [
    "# 서울시에서 공개한 코로나19 발생동향 분석\n",
    "* http://www.seoul.go.kr/coronaV/coronaStatus.do"
   ]
  },
  {
   "cell_type": "code",
   "execution_count": 23,
   "metadata": {},
   "outputs": [],
   "source": [
    "# pandas, numpy 라이브러리 로드하기\n",
    "import pandas as pd\n",
    "import numpy as np"
   ]
  },
  {
   "cell_type": "code",
   "execution_count": 3,
   "metadata": {},
   "outputs": [
    {
     "data": {
      "text/plain": [
       "'seoul-covid19-11_28_.csv'"
      ]
     },
     "execution_count": 3,
     "metadata": {},
     "output_type": "execute_result"
    }
   ],
   "source": [
    "# file_name 변수에 read_html 로 저장한 파일명을 지정해 줍니다.\n",
    "# f는 포맷을 의미 (포맷팅)\n",
    "file_name = f\"seoul-covid19-11_28_.csv\"\n",
    "file_name"
   ]
  },
  {
   "cell_type": "code",
   "execution_count": 4,
   "metadata": {},
   "outputs": [
    {
     "data": {
      "text/plain": [
       "(8652, 7)"
      ]
     },
     "execution_count": 4,
     "metadata": {},
     "output_type": "execute_result"
    }
   ],
   "source": [
    "# read_csv 로 csv 파일을 불러와 주세요.\n",
    "df = pd.read_csv(file_name)\n",
    "df.shape"
   ]
  },
  {
   "cell_type": "code",
   "execution_count": 5,
   "metadata": {},
   "outputs": [],
   "source": [
    "# \"연번\"을 기준으로 역순으로 정렬합니다.\n",
    "df = df.sort_values(\"연번\", ascending = False)"
   ]
  },
  {
   "cell_type": "code",
   "execution_count": 6,
   "metadata": {},
   "outputs": [
    {
     "data": {
      "text/html": [
       "<div>\n",
       "<style scoped>\n",
       "    .dataframe tbody tr th:only-of-type {\n",
       "        vertical-align: middle;\n",
       "    }\n",
       "\n",
       "    .dataframe tbody tr th {\n",
       "        vertical-align: top;\n",
       "    }\n",
       "\n",
       "    .dataframe thead th {\n",
       "        text-align: right;\n",
       "    }\n",
       "</style>\n",
       "<table border=\"1\" class=\"dataframe\">\n",
       "  <thead>\n",
       "    <tr style=\"text-align: right;\">\n",
       "      <th></th>\n",
       "      <th>연번</th>\n",
       "      <th>환자</th>\n",
       "      <th>확진일</th>\n",
       "      <th>거주지</th>\n",
       "      <th>여행력</th>\n",
       "      <th>접촉력</th>\n",
       "      <th>퇴원현황</th>\n",
       "    </tr>\n",
       "  </thead>\n",
       "  <tbody>\n",
       "    <tr>\n",
       "      <th>0</th>\n",
       "      <td>8652</td>\n",
       "      <td>33532</td>\n",
       "      <td>11.28.</td>\n",
       "      <td>서대문구</td>\n",
       "      <td>-</td>\n",
       "      <td>기타 확진자 접촉</td>\n",
       "      <td>NaN</td>\n",
       "    </tr>\n",
       "    <tr>\n",
       "      <th>1</th>\n",
       "      <td>8651</td>\n",
       "      <td>33756</td>\n",
       "      <td>11.28.</td>\n",
       "      <td>타시도</td>\n",
       "      <td>-</td>\n",
       "      <td>감염경로 조사중</td>\n",
       "      <td>NaN</td>\n",
       "    </tr>\n",
       "    <tr>\n",
       "      <th>2</th>\n",
       "      <td>8650</td>\n",
       "      <td>33772</td>\n",
       "      <td>11.28.</td>\n",
       "      <td>동작구</td>\n",
       "      <td>-</td>\n",
       "      <td>동작구 임용단기학원 관련</td>\n",
       "      <td>NaN</td>\n",
       "    </tr>\n",
       "    <tr>\n",
       "      <th>3</th>\n",
       "      <td>8649</td>\n",
       "      <td>33776</td>\n",
       "      <td>11.28.</td>\n",
       "      <td>은평구</td>\n",
       "      <td>-</td>\n",
       "      <td>기타 확진자 접촉</td>\n",
       "      <td>NaN</td>\n",
       "    </tr>\n",
       "    <tr>\n",
       "      <th>4</th>\n",
       "      <td>8648</td>\n",
       "      <td>33768</td>\n",
       "      <td>11.28.</td>\n",
       "      <td>서초구</td>\n",
       "      <td>-</td>\n",
       "      <td>기타 확진자 접촉</td>\n",
       "      <td>NaN</td>\n",
       "    </tr>\n",
       "  </tbody>\n",
       "</table>\n",
       "</div>"
      ],
      "text/plain": [
       "     연번     환자     확진일   거주지 여행력            접촉력 퇴원현황\n",
       "0  8652  33532  11.28.  서대문구   -      기타 확진자 접촉  NaN\n",
       "1  8651  33756  11.28.   타시도   -       감염경로 조사중  NaN\n",
       "2  8650  33772  11.28.   동작구   -  동작구 임용단기학원 관련  NaN\n",
       "3  8649  33776  11.28.   은평구   -      기타 확진자 접촉  NaN\n",
       "4  8648  33768  11.28.   서초구   -      기타 확진자 접촉  NaN"
      ]
     },
     "execution_count": 6,
     "metadata": {},
     "output_type": "execute_result"
    }
   ],
   "source": [
    "# head 로 미리보기를 합니다.\n",
    "df.head()"
   ]
  },
  {
   "cell_type": "code",
   "execution_count": 7,
   "metadata": {},
   "outputs": [
    {
     "data": {
      "text/html": [
       "<div>\n",
       "<style scoped>\n",
       "    .dataframe tbody tr th:only-of-type {\n",
       "        vertical-align: middle;\n",
       "    }\n",
       "\n",
       "    .dataframe tbody tr th {\n",
       "        vertical-align: top;\n",
       "    }\n",
       "\n",
       "    .dataframe thead th {\n",
       "        text-align: right;\n",
       "    }\n",
       "</style>\n",
       "<table border=\"1\" class=\"dataframe\">\n",
       "  <thead>\n",
       "    <tr style=\"text-align: right;\">\n",
       "      <th></th>\n",
       "      <th>연번</th>\n",
       "      <th>환자</th>\n",
       "      <th>확진일</th>\n",
       "      <th>거주지</th>\n",
       "      <th>여행력</th>\n",
       "      <th>접촉력</th>\n",
       "      <th>퇴원현황</th>\n",
       "    </tr>\n",
       "  </thead>\n",
       "  <tbody>\n",
       "    <tr>\n",
       "      <th>8647</th>\n",
       "      <td>5</td>\n",
       "      <td>9</td>\n",
       "      <td>1.31.</td>\n",
       "      <td>성북구</td>\n",
       "      <td>-</td>\n",
       "      <td>#5 접촉</td>\n",
       "      <td>퇴원</td>\n",
       "    </tr>\n",
       "    <tr>\n",
       "      <th>8648</th>\n",
       "      <td>4</td>\n",
       "      <td>7</td>\n",
       "      <td>1.30.</td>\n",
       "      <td>마포구</td>\n",
       "      <td>중국 우한시</td>\n",
       "      <td>해외 접촉</td>\n",
       "      <td>퇴원</td>\n",
       "    </tr>\n",
       "    <tr>\n",
       "      <th>8649</th>\n",
       "      <td>3</td>\n",
       "      <td>6</td>\n",
       "      <td>1.30.</td>\n",
       "      <td>종로구</td>\n",
       "      <td>-</td>\n",
       "      <td>#3 접촉</td>\n",
       "      <td>퇴원</td>\n",
       "    </tr>\n",
       "    <tr>\n",
       "      <th>8650</th>\n",
       "      <td>2</td>\n",
       "      <td>5</td>\n",
       "      <td>1.30.</td>\n",
       "      <td>중랑구</td>\n",
       "      <td>중국 우한시</td>\n",
       "      <td>해외 접촉</td>\n",
       "      <td>퇴원</td>\n",
       "    </tr>\n",
       "    <tr>\n",
       "      <th>8651</th>\n",
       "      <td>1</td>\n",
       "      <td>2</td>\n",
       "      <td>1.24.</td>\n",
       "      <td>강서구</td>\n",
       "      <td>중국 우한시</td>\n",
       "      <td>해외 접촉</td>\n",
       "      <td>퇴원</td>\n",
       "    </tr>\n",
       "  </tbody>\n",
       "</table>\n",
       "</div>"
      ],
      "text/plain": [
       "      연번 환자    확진일  거주지     여행력    접촉력 퇴원현황\n",
       "8647   5  9  1.31.  성북구       -  #5 접촉   퇴원\n",
       "8648   4  7  1.30.  마포구  중국 우한시  해외 접촉   퇴원\n",
       "8649   3  6  1.30.  종로구       -  #3 접촉   퇴원\n",
       "8650   2  5  1.30.  중랑구  중국 우한시  해외 접촉   퇴원\n",
       "8651   1  2  1.24.  강서구  중국 우한시  해외 접촉   퇴원"
      ]
     },
     "execution_count": 7,
     "metadata": {},
     "output_type": "execute_result"
    }
   ],
   "source": [
    "# tail 로 미리보기를 합니다.\n",
    "df.tail()"
   ]
  },
  {
   "cell_type": "markdown",
   "metadata": {},
   "source": [
    "## 시각화 도구 불러오기"
   ]
  },
  {
   "cell_type": "code",
   "execution_count": 8,
   "metadata": {},
   "outputs": [
    {
     "data": {
      "text/plain": [
       "<AxesSubplot:title={'center':'한글'}>"
      ]
     },
     "execution_count": 8,
     "metadata": {},
     "output_type": "execute_result"
    },
    {
     "data": {
      "image/png": "[encoded data removed]",
      "text/plain": [
       "<Figure size 432x288 with 1 Axes>"
      ]
     },
     "metadata": {
      "needs_background": "light"
     },
     "output_type": "display_data"
    }
   ],
   "source": [
    "# matplotlib.pyplot 을 통해 한글폰트를 설정합니다. (판다스를 위한 시각화 도구)\n",
    "# plt.style.use 로 \"fivethirtyeight\" 스타일을 사용해 봅니다.\n",
    "# 참고 : matplotlib을 사용하기 편리하게 해놓은 seaborn\n",
    "import matplotlib.pyplot as plt\n",
    "\n",
    "plt.rc(\"font\", family = \"Malgun Gothic\") #맥은 AppleGothic\n",
    "plt.rc(\"axes\", unicode_minus = False)\n",
    "\n",
    "# Series 형태로 바꾸어주지 않은 리스트에는 판다스 기능 적용불가\n",
    "pd.Series([1,3,5,-7,9]).plot(title = \"한글\")\n",
    "\n",
    "# subplot 하나를 axes로 부름"
   ]
  },
  {
   "cell_type": "markdown",
   "metadata": {},
   "source": [
    "### 시각화 선명하게 설정하기"
   ]
  },
  {
   "cell_type": "code",
   "execution_count": 9,
   "metadata": {},
   "outputs": [],
   "source": [
    "# retina 디스플레이가 지원되는 환경에서 시각화의 폰트가 좀 더 선명해 보입니다.\n",
    "\n",
    "from IPython.display import set_matplotlib_formats\n",
    "set_matplotlib_formats(\"retina\")"
   ]
  },
  {
   "cell_type": "markdown",
   "metadata": {},
   "source": [
    "## 확진일"
   ]
  },
  {
   "cell_type": "code",
   "execution_count": 10,
   "metadata": {},
   "outputs": [
    {
     "data": {
      "text/plain": [
       "11.25.    212\n",
       "11.26.    204\n",
       "11.27.    178\n",
       "8.29.     167\n",
       "8.27.     160\n",
       "Name: 확진일, dtype: int64"
      ]
     },
     "execution_count": 10,
     "metadata": {},
     "output_type": "execute_result"
    }
   ],
   "source": [
    "# 확진일의 빈도수를 봅니다. 어느 날짜에 가장 많이 확진이 되었는지 봅니다.\n",
    "df[\"확진일\"].value_counts().head()"
   ]
  },
  {
   "cell_type": "code",
   "execution_count": 11,
   "metadata": {},
   "outputs": [
    {
     "data": {
      "text/plain": [
       "0    11.28.\n",
       "1    11.28.\n",
       "2    11.28.\n",
       "3    11.28.\n",
       "4    11.28.\n",
       "Name: 확진일, dtype: object"
      ]
     },
     "execution_count": 11,
     "metadata": {},
     "output_type": "execute_result"
    }
   ],
   "source": [
    "# \"확진일\" 컬럼의 데이터가 날짜 형태가 아니라 문자형태 입니다.\n",
    "df[\"확진일\"].head()"
   ]
  },
  {
   "cell_type": "code",
   "execution_count": 12,
   "metadata": {},
   "outputs": [
    {
     "name": "stderr",
     "output_type": "stream",
     "text": [
      "<ipython-input-12-46bb883ec141>:6: FutureWarning: Treating datetime data as categorical rather than numeric in `.describe` is deprecated and will be removed in a future version of pandas. Specify `datetime_is_numeric=True` to silence this warning and adopt the future behavior now.\n",
      "  df[[\"확진일\", \"확진일자\"]].describe()\n"
     ]
    },
    {
     "data": {
      "text/html": [
       "<div>\n",
       "<style scoped>\n",
       "    .dataframe tbody tr th:only-of-type {\n",
       "        vertical-align: middle;\n",
       "    }\n",
       "\n",
       "    .dataframe tbody tr th {\n",
       "        vertical-align: top;\n",
       "    }\n",
       "\n",
       "    .dataframe thead th {\n",
       "        text-align: right;\n",
       "    }\n",
       "</style>\n",
       "<table border=\"1\" class=\"dataframe\">\n",
       "  <thead>\n",
       "    <tr style=\"text-align: right;\">\n",
       "      <th></th>\n",
       "      <th>확진일</th>\n",
       "      <th>확진일자</th>\n",
       "    </tr>\n",
       "  </thead>\n",
       "  <tbody>\n",
       "    <tr>\n",
       "      <th>count</th>\n",
       "      <td>8652</td>\n",
       "      <td>8652</td>\n",
       "    </tr>\n",
       "    <tr>\n",
       "      <th>unique</th>\n",
       "      <td>283</td>\n",
       "      <td>281</td>\n",
       "    </tr>\n",
       "    <tr>\n",
       "      <th>top</th>\n",
       "      <td>11.25.</td>\n",
       "      <td>2020-11-25 00:00:00</td>\n",
       "    </tr>\n",
       "    <tr>\n",
       "      <th>freq</th>\n",
       "      <td>212</td>\n",
       "      <td>212</td>\n",
       "    </tr>\n",
       "    <tr>\n",
       "      <th>first</th>\n",
       "      <td>NaN</td>\n",
       "      <td>2020-01-24 00:00:00</td>\n",
       "    </tr>\n",
       "    <tr>\n",
       "      <th>last</th>\n",
       "      <td>NaN</td>\n",
       "      <td>2020-11-28 00:00:00</td>\n",
       "    </tr>\n",
       "  </tbody>\n",
       "</table>\n",
       "</div>"
      ],
      "text/plain": [
       "           확진일                 확진일자\n",
       "count     8652                 8652\n",
       "unique     283                  281\n",
       "top     11.25.  2020-11-25 00:00:00\n",
       "freq       212                  212\n",
       "first      NaN  2020-01-24 00:00:00\n",
       "last       NaN  2020-11-28 00:00:00"
      ]
     },
     "execution_count": 12,
     "metadata": {},
     "output_type": "execute_result"
    }
   ],
   "source": [
    "# 데이터 타입을 변경해서 날짜형태로 변환합니다.\n",
    "# 판다스의 to_datetime 을 사용해서 날짜 타입으로 변경할 수 있습니다.\n",
    "# 연도가 없기 때문에 2020년을 날짜에 추가하고 \"-\" 문자로 날짜를 연결해 줍니다.\n",
    "\n",
    "df[\"확진일자\"] = pd.to_datetime(\"2020.\" + df[\"확진일\"])\n",
    "df[[\"확진일\", \"확진일자\"]].describe()\n",
    "# freq : top이 몇 번 등장하는지\n",
    "# unique값이 다른 것은 텍스트가 datetime으로 바꿔지지 않는 형태로 들어가 있어서일 가능성.."
   ]
  },
  {
   "cell_type": "code",
   "execution_count": 13,
   "metadata": {},
   "outputs": [],
   "source": [
    "# 월만 추출합니다. 판다스의 dt함수 사용\n",
    "\n",
    "df[\"월\"] = df[\"확진일자\"].dt.month"
   ]
  },
  {
   "cell_type": "code",
   "execution_count": 14,
   "metadata": {},
   "outputs": [
    {
     "data": {
      "text/html": [
       "<div>\n",
       "<style scoped>\n",
       "    .dataframe tbody tr th:only-of-type {\n",
       "        vertical-align: middle;\n",
       "    }\n",
       "\n",
       "    .dataframe tbody tr th {\n",
       "        vertical-align: top;\n",
       "    }\n",
       "\n",
       "    .dataframe thead th {\n",
       "        text-align: right;\n",
       "    }\n",
       "</style>\n",
       "<table border=\"1\" class=\"dataframe\">\n",
       "  <thead>\n",
       "    <tr style=\"text-align: right;\">\n",
       "      <th></th>\n",
       "      <th>연번</th>\n",
       "      <th>환자</th>\n",
       "      <th>확진일</th>\n",
       "      <th>거주지</th>\n",
       "      <th>여행력</th>\n",
       "      <th>접촉력</th>\n",
       "      <th>퇴원현황</th>\n",
       "      <th>확진일자</th>\n",
       "      <th>월</th>\n",
       "      <th>주</th>\n",
       "    </tr>\n",
       "  </thead>\n",
       "  <tbody>\n",
       "    <tr>\n",
       "      <th>0</th>\n",
       "      <td>8652</td>\n",
       "      <td>33532</td>\n",
       "      <td>11.28.</td>\n",
       "      <td>서대문구</td>\n",
       "      <td>-</td>\n",
       "      <td>기타 확진자 접촉</td>\n",
       "      <td>NaN</td>\n",
       "      <td>2020-11-28</td>\n",
       "      <td>11</td>\n",
       "      <td>48</td>\n",
       "    </tr>\n",
       "    <tr>\n",
       "      <th>1</th>\n",
       "      <td>8651</td>\n",
       "      <td>33756</td>\n",
       "      <td>11.28.</td>\n",
       "      <td>타시도</td>\n",
       "      <td>-</td>\n",
       "      <td>감염경로 조사중</td>\n",
       "      <td>NaN</td>\n",
       "      <td>2020-11-28</td>\n",
       "      <td>11</td>\n",
       "      <td>48</td>\n",
       "    </tr>\n",
       "    <tr>\n",
       "      <th>2</th>\n",
       "      <td>8650</td>\n",
       "      <td>33772</td>\n",
       "      <td>11.28.</td>\n",
       "      <td>동작구</td>\n",
       "      <td>-</td>\n",
       "      <td>동작구 임용단기학원 관련</td>\n",
       "      <td>NaN</td>\n",
       "      <td>2020-11-28</td>\n",
       "      <td>11</td>\n",
       "      <td>48</td>\n",
       "    </tr>\n",
       "    <tr>\n",
       "      <th>3</th>\n",
       "      <td>8649</td>\n",
       "      <td>33776</td>\n",
       "      <td>11.28.</td>\n",
       "      <td>은평구</td>\n",
       "      <td>-</td>\n",
       "      <td>기타 확진자 접촉</td>\n",
       "      <td>NaN</td>\n",
       "      <td>2020-11-28</td>\n",
       "      <td>11</td>\n",
       "      <td>48</td>\n",
       "    </tr>\n",
       "    <tr>\n",
       "      <th>4</th>\n",
       "      <td>8648</td>\n",
       "      <td>33768</td>\n",
       "      <td>11.28.</td>\n",
       "      <td>서초구</td>\n",
       "      <td>-</td>\n",
       "      <td>기타 확진자 접촉</td>\n",
       "      <td>NaN</td>\n",
       "      <td>2020-11-28</td>\n",
       "      <td>11</td>\n",
       "      <td>48</td>\n",
       "    </tr>\n",
       "    <tr>\n",
       "      <th>...</th>\n",
       "      <td>...</td>\n",
       "      <td>...</td>\n",
       "      <td>...</td>\n",
       "      <td>...</td>\n",
       "      <td>...</td>\n",
       "      <td>...</td>\n",
       "      <td>...</td>\n",
       "      <td>...</td>\n",
       "      <td>...</td>\n",
       "      <td>...</td>\n",
       "    </tr>\n",
       "    <tr>\n",
       "      <th>8647</th>\n",
       "      <td>5</td>\n",
       "      <td>9</td>\n",
       "      <td>1.31.</td>\n",
       "      <td>성북구</td>\n",
       "      <td>-</td>\n",
       "      <td>#5 접촉</td>\n",
       "      <td>퇴원</td>\n",
       "      <td>2020-01-31</td>\n",
       "      <td>1</td>\n",
       "      <td>5</td>\n",
       "    </tr>\n",
       "    <tr>\n",
       "      <th>8648</th>\n",
       "      <td>4</td>\n",
       "      <td>7</td>\n",
       "      <td>1.30.</td>\n",
       "      <td>마포구</td>\n",
       "      <td>중국 우한시</td>\n",
       "      <td>해외 접촉</td>\n",
       "      <td>퇴원</td>\n",
       "      <td>2020-01-30</td>\n",
       "      <td>1</td>\n",
       "      <td>5</td>\n",
       "    </tr>\n",
       "    <tr>\n",
       "      <th>8649</th>\n",
       "      <td>3</td>\n",
       "      <td>6</td>\n",
       "      <td>1.30.</td>\n",
       "      <td>종로구</td>\n",
       "      <td>-</td>\n",
       "      <td>#3 접촉</td>\n",
       "      <td>퇴원</td>\n",
       "      <td>2020-01-30</td>\n",
       "      <td>1</td>\n",
       "      <td>5</td>\n",
       "    </tr>\n",
       "    <tr>\n",
       "      <th>8650</th>\n",
       "      <td>2</td>\n",
       "      <td>5</td>\n",
       "      <td>1.30.</td>\n",
       "      <td>중랑구</td>\n",
       "      <td>중국 우한시</td>\n",
       "      <td>해외 접촉</td>\n",
       "      <td>퇴원</td>\n",
       "      <td>2020-01-30</td>\n",
       "      <td>1</td>\n",
       "      <td>5</td>\n",
       "    </tr>\n",
       "    <tr>\n",
       "      <th>8651</th>\n",
       "      <td>1</td>\n",
       "      <td>2</td>\n",
       "      <td>1.24.</td>\n",
       "      <td>강서구</td>\n",
       "      <td>중국 우한시</td>\n",
       "      <td>해외 접촉</td>\n",
       "      <td>퇴원</td>\n",
       "      <td>2020-01-24</td>\n",
       "      <td>1</td>\n",
       "      <td>4</td>\n",
       "    </tr>\n",
       "  </tbody>\n",
       "</table>\n",
       "<p>8652 rows × 10 columns</p>\n",
       "</div>"
      ],
      "text/plain": [
       "        연번     환자     확진일   거주지     여행력            접촉력 퇴원현황       확진일자   월   주\n",
       "0     8652  33532  11.28.  서대문구       -      기타 확진자 접촉  NaN 2020-11-28  11  48\n",
       "1     8651  33756  11.28.   타시도       -       감염경로 조사중  NaN 2020-11-28  11  48\n",
       "2     8650  33772  11.28.   동작구       -  동작구 임용단기학원 관련  NaN 2020-11-28  11  48\n",
       "3     8649  33776  11.28.   은평구       -      기타 확진자 접촉  NaN 2020-11-28  11  48\n",
       "4     8648  33768  11.28.   서초구       -      기타 확진자 접촉  NaN 2020-11-28  11  48\n",
       "...    ...    ...     ...   ...     ...            ...  ...        ...  ..  ..\n",
       "8647     5      9   1.31.   성북구       -          #5 접촉   퇴원 2020-01-31   1   5\n",
       "8648     4      7   1.30.   마포구  중국 우한시          해외 접촉   퇴원 2020-01-30   1   5\n",
       "8649     3      6   1.30.   종로구       -          #3 접촉   퇴원 2020-01-30   1   5\n",
       "8650     2      5   1.30.   중랑구  중국 우한시          해외 접촉   퇴원 2020-01-30   1   5\n",
       "8651     1      2   1.24.   강서구  중국 우한시          해외 접촉   퇴원 2020-01-24   1   4\n",
       "\n",
       "[8652 rows x 10 columns]"
      ]
     },
     "execution_count": 14,
     "metadata": {},
     "output_type": "execute_result"
    }
   ],
   "source": [
    "# 해당 연도의 몇번째 \"주\"인지 추출합니다.\n",
    "\n",
    "df[\"주\"] = df[\"확진일자\"].dt.isocalendar().week\n",
    "df"
   ]
  },
  {
   "cell_type": "markdown",
   "metadata": {},
   "source": [
    "### 선그래프 그리기\n",
    "[Visualization — pandas documentation](https://pandas.pydata.org/pandas-docs/stable/user_guide/visualization.html)"
   ]
  },
  {
   "cell_type": "code",
   "execution_count": 15,
   "metadata": {
    "scrolled": true
   },
   "outputs": [
    {
     "data": {
      "text/plain": [
       "<AxesSubplot:title={'center':'확진일자별 확진자 수'}>"
      ]
     },
     "execution_count": 15,
     "metadata": {},
     "output_type": "execute_result"
    },
    {
     "data": {
      "image/png": "[encoded data removed]",
      "text/plain": [
       "<Figure size 720x288 with 1 Axes>"
      ]
     },
     "metadata": {
      "image/png": {
       "height": 260,
       "width": 595
      },
      "needs_background": "light"
     },
     "output_type": "display_data"
    }
   ],
   "source": [
    "# 확진일자로 선그래프를 그립니다.\n",
    "df[\"확진일자\"].value_counts().plot(title = \"확진일자별 확진자 수\",\n",
    "                               figsize = (10, 4), grid = True)"
   ]
  },
  {
   "cell_type": "code",
   "execution_count": 16,
   "metadata": {},
   "outputs": [],
   "source": [
    "# 참고 : %timeit 코드 : 실행시간 알려줌"
   ]
  },
  {
   "cell_type": "markdown",
   "metadata": {},
   "source": [
    "### 확진자가 가장 많이 나온 날"
   ]
  },
  {
   "cell_type": "code",
   "execution_count": 17,
   "metadata": {},
   "outputs": [
    {
     "name": "stderr",
     "output_type": "stream",
     "text": [
      "<ipython-input-17-e5fd44a8918a>:2: FutureWarning: Treating datetime data as categorical rather than numeric in `.describe` is deprecated and will be removed in a future version of pandas. Specify `datetime_is_numeric=True` to silence this warning and adopt the future behavior now.\n",
      "  df[\"확진일자\"].describe()\n"
     ]
    },
    {
     "data": {
      "text/plain": [
       "count                    8652\n",
       "unique                    281\n",
       "top       2020-11-25 00:00:00\n",
       "freq                      212\n",
       "first     2020-01-24 00:00:00\n",
       "last      2020-11-28 00:00:00\n",
       "Name: 확진일자, dtype: object"
      ]
     },
     "execution_count": 17,
     "metadata": {},
     "output_type": "execute_result"
    }
   ],
   "source": [
    "# describe 를 통해 일자별 확진자수를 describe를 통해 요약해 봅니다.\n",
    "df[\"확진일자\"].describe()"
   ]
  },
  {
   "cell_type": "code",
   "execution_count": 18,
   "metadata": {},
   "outputs": [
    {
     "data": {
      "text/html": [
       "<div>\n",
       "<style scoped>\n",
       "    .dataframe tbody tr th:only-of-type {\n",
       "        vertical-align: middle;\n",
       "    }\n",
       "\n",
       "    .dataframe tbody tr th {\n",
       "        vertical-align: top;\n",
       "    }\n",
       "\n",
       "    .dataframe thead th {\n",
       "        text-align: right;\n",
       "    }\n",
       "</style>\n",
       "<table border=\"1\" class=\"dataframe\">\n",
       "  <thead>\n",
       "    <tr style=\"text-align: right;\">\n",
       "      <th></th>\n",
       "      <th>연번</th>\n",
       "      <th>환자</th>\n",
       "      <th>확진일</th>\n",
       "      <th>거주지</th>\n",
       "      <th>여행력</th>\n",
       "      <th>접촉력</th>\n",
       "      <th>퇴원현황</th>\n",
       "      <th>확진일자</th>\n",
       "      <th>월</th>\n",
       "      <th>주</th>\n",
       "    </tr>\n",
       "  </thead>\n",
       "  <tbody>\n",
       "    <tr>\n",
       "      <th>540</th>\n",
       "      <td>8112</td>\n",
       "      <td>31995</td>\n",
       "      <td>11.25.</td>\n",
       "      <td>타시도</td>\n",
       "      <td>-</td>\n",
       "      <td>기타 확진자 접촉</td>\n",
       "      <td>NaN</td>\n",
       "      <td>2020-11-25</td>\n",
       "      <td>11</td>\n",
       "      <td>48</td>\n",
       "    </tr>\n",
       "    <tr>\n",
       "      <th>541</th>\n",
       "      <td>8111</td>\n",
       "      <td>31997</td>\n",
       "      <td>11.25.</td>\n",
       "      <td>타시도</td>\n",
       "      <td>-</td>\n",
       "      <td>중구 소재 보람상조회사 관련</td>\n",
       "      <td>NaN</td>\n",
       "      <td>2020-11-25</td>\n",
       "      <td>11</td>\n",
       "      <td>48</td>\n",
       "    </tr>\n",
       "    <tr>\n",
       "      <th>542</th>\n",
       "      <td>8110</td>\n",
       "      <td>32080</td>\n",
       "      <td>11.25.</td>\n",
       "      <td>동작구</td>\n",
       "      <td>-</td>\n",
       "      <td>감염경로 조사중</td>\n",
       "      <td>NaN</td>\n",
       "      <td>2020-11-25</td>\n",
       "      <td>11</td>\n",
       "      <td>48</td>\n",
       "    </tr>\n",
       "    <tr>\n",
       "      <th>543</th>\n",
       "      <td>8109</td>\n",
       "      <td>32187</td>\n",
       "      <td>11.25.</td>\n",
       "      <td>중랑구</td>\n",
       "      <td>-</td>\n",
       "      <td>감염경로 조사중</td>\n",
       "      <td>NaN</td>\n",
       "      <td>2020-11-25</td>\n",
       "      <td>11</td>\n",
       "      <td>48</td>\n",
       "    </tr>\n",
       "    <tr>\n",
       "      <th>544</th>\n",
       "      <td>8108</td>\n",
       "      <td>32015</td>\n",
       "      <td>11.25.</td>\n",
       "      <td>타시도</td>\n",
       "      <td>-</td>\n",
       "      <td>감염경로 조사중</td>\n",
       "      <td>NaN</td>\n",
       "      <td>2020-11-25</td>\n",
       "      <td>11</td>\n",
       "      <td>48</td>\n",
       "    </tr>\n",
       "    <tr>\n",
       "      <th>...</th>\n",
       "      <td>...</td>\n",
       "      <td>...</td>\n",
       "      <td>...</td>\n",
       "      <td>...</td>\n",
       "      <td>...</td>\n",
       "      <td>...</td>\n",
       "      <td>...</td>\n",
       "      <td>...</td>\n",
       "      <td>...</td>\n",
       "      <td>...</td>\n",
       "    </tr>\n",
       "    <tr>\n",
       "      <th>747</th>\n",
       "      <td>7905</td>\n",
       "      <td>31868</td>\n",
       "      <td>11.25.</td>\n",
       "      <td>동작구</td>\n",
       "      <td>-</td>\n",
       "      <td>동작구 임용단기고시 관련</td>\n",
       "      <td>NaN</td>\n",
       "      <td>2020-11-25</td>\n",
       "      <td>11</td>\n",
       "      <td>48</td>\n",
       "    </tr>\n",
       "    <tr>\n",
       "      <th>748</th>\n",
       "      <td>7904</td>\n",
       "      <td>31823</td>\n",
       "      <td>11.25.</td>\n",
       "      <td>동작구</td>\n",
       "      <td>-</td>\n",
       "      <td>기타 확진자 접촉</td>\n",
       "      <td>NaN</td>\n",
       "      <td>2020-11-25</td>\n",
       "      <td>11</td>\n",
       "      <td>48</td>\n",
       "    </tr>\n",
       "    <tr>\n",
       "      <th>749</th>\n",
       "      <td>7903</td>\n",
       "      <td>31882</td>\n",
       "      <td>11.25.</td>\n",
       "      <td>용산구</td>\n",
       "      <td>-</td>\n",
       "      <td>감염경로 조사중</td>\n",
       "      <td>NaN</td>\n",
       "      <td>2020-11-25</td>\n",
       "      <td>11</td>\n",
       "      <td>48</td>\n",
       "    </tr>\n",
       "    <tr>\n",
       "      <th>750</th>\n",
       "      <td>7902</td>\n",
       "      <td>31878</td>\n",
       "      <td>11.25.</td>\n",
       "      <td>용산구</td>\n",
       "      <td>-</td>\n",
       "      <td>기타 확진자 접촉</td>\n",
       "      <td>NaN</td>\n",
       "      <td>2020-11-25</td>\n",
       "      <td>11</td>\n",
       "      <td>48</td>\n",
       "    </tr>\n",
       "    <tr>\n",
       "      <th>751</th>\n",
       "      <td>7901</td>\n",
       "      <td>31798</td>\n",
       "      <td>11.25.</td>\n",
       "      <td>타시도</td>\n",
       "      <td>-</td>\n",
       "      <td>서초구 사우나Ⅱ 관련</td>\n",
       "      <td>NaN</td>\n",
       "      <td>2020-11-25</td>\n",
       "      <td>11</td>\n",
       "      <td>48</td>\n",
       "    </tr>\n",
       "  </tbody>\n",
       "</table>\n",
       "<p>212 rows × 10 columns</p>\n",
       "</div>"
      ],
      "text/plain": [
       "       연번     환자     확진일  거주지 여행력              접촉력 퇴원현황       확진일자   월   주\n",
       "540  8112  31995  11.25.  타시도   -        기타 확진자 접촉  NaN 2020-11-25  11  48\n",
       "541  8111  31997  11.25.  타시도   -  중구 소재 보람상조회사 관련  NaN 2020-11-25  11  48\n",
       "542  8110  32080  11.25.  동작구   -         감염경로 조사중  NaN 2020-11-25  11  48\n",
       "543  8109  32187  11.25.  중랑구   -         감염경로 조사중  NaN 2020-11-25  11  48\n",
       "544  8108  32015  11.25.  타시도   -         감염경로 조사중  NaN 2020-11-25  11  48\n",
       "..    ...    ...     ...  ...  ..              ...  ...        ...  ..  ..\n",
       "747  7905  31868  11.25.  동작구   -    동작구 임용단기고시 관련  NaN 2020-11-25  11  48\n",
       "748  7904  31823  11.25.  동작구   -        기타 확진자 접촉  NaN 2020-11-25  11  48\n",
       "749  7903  31882  11.25.  용산구   -         감염경로 조사중  NaN 2020-11-25  11  48\n",
       "750  7902  31878  11.25.  용산구   -        기타 확진자 접촉  NaN 2020-11-25  11  48\n",
       "751  7901  31798  11.25.  타시도   -      서초구 사우나Ⅱ 관련  NaN 2020-11-25  11  48\n",
       "\n",
       "[212 rows x 10 columns]"
      ]
     },
     "execution_count": 18,
     "metadata": {},
     "output_type": "execute_result"
    }
   ],
   "source": [
    "# 확진자가 가장 많았던 날을 찾습니다.\n",
    "df[df[\"확진일자\"] == \"2020-11-25\"]"
   ]
  },
  {
   "cell_type": "code",
   "execution_count": 19,
   "metadata": {},
   "outputs": [
    {
     "data": {
      "text/plain": [
       "array(['기타 확진자 접촉', '감염경로 조사중', '동작구 임용단기학원 관련', '동대문구 체육시설 관련',\n",
       "       '강서구 댄스교습관련 시설', '타시도 확진자 접촉', '해외 유입', '서초구 건설회사 관련', '소규모 지인모임',\n",
       "       '서초구 사우나Ⅱ 관련', '강서구 댄스교습관련 시설 ', '동작구 임용단기고시 관련', '어플소모임 관련',\n",
       "       '마포구 홍대새교회 관련', '강서구 댄스교습관련 시설(서울대효병원)', '강서구 가족 관련',\n",
       "       '동창 운동 모임 관련', '노원구 가족관련', '강남구 연기학원 관련', '중랑구 실내 체육시설 Ⅱ 관련',\n",
       "       '노원구청 관련', '수도권산악회(11월) 관련 ', '중구 제조업공장 관련', '연세대 학생 관련',\n",
       "       '서대문구 요양시설 관련', '송파구 사우나 관련', '마포구 소재 노인복지시설 관련', '강남구 음식점Ⅱ 관련',\n",
       "       '삼성서울병원 관련', '강서구 경로당 관련', '서초구 사우나 관련', '강서구 소재 병원관련(11월)',\n",
       "       '지인-가족전파', '중구 소재 보람상조회사 관련', '어름 소모임 관련', '어플 소모임 관련',\n",
       "       '중랑구 체육시설 Ⅱ 관련', '용산구 국군복지단 관련', '중구 소재 상조회사 관련', '성동구 소재 PC방 관련',\n",
       "       '동작구 모조카페 관련', '마포구 홍대세교회관련', '수도권 지인모임(11월) 관련', '중구 교회 관련',\n",
       "       '중랑구 실내체육시설 관련', '마포구 홍대세교회 관련', '동대문구 고등학교(마포구 홍대 새교회관련)',\n",
       "       '감염경로 조사 중', '노원구 의료기관 관련', '강남구 헬스장 관련', '성북구 가족 관련',\n",
       "       '송파구 잠언의료기(강남구CJ텔레닉스)', '수도권산악회(11월) 관련', '동작구 교회 기도처 관련',\n",
       "       '동작구 모조카페', '성동구 금호노인요양원 관련', '동대문구 에이스희망케어센터 관련', '서울대병원 발생 관련',\n",
       "       '도봉구 의류업작업장 관련', '동대문구 고등학교 관련', '성동구 체육시설 관련', '중랑구 체육시설 관련',\n",
       "       '서초구 소재 교회/교육원 관련', '서울시청(11월) 관련', '동대문구 고등학교(마포구 홍대새교회 관련)',\n",
       "       '서초구 어린이집 관련', '동작구 가족관련(11월)', '도봉구 청련사 관련', '송파구 지인강원여행모임',\n",
       "       '성동구 시장관련', '영등포구 증권회사 관련', '용산구 국군복지단', '노원구 가족 관련',\n",
       "       '서초구 소재 교회,교육원관련', '수도권 미술대학원/아이스하키', '송파구 지인강원여행모임 관련',\n",
       "       '강서구 지인모임관련(11월)', '영등포구 직장관련', '도봉구 소재 종교시설', '도봉구 의류업 작업장 관련',\n",
       "       '송파구 잠언의료기[강남구CJ텔레닉스]', '송파구 소재 병원관련', '강동구 소재 건설현장 관련',\n",
       "       '강서구 사우나 관련', '강남구 콜센터 관련', '생일파티모임관련', '타시도 확진자 접촉[충남아산전기공사업체관련]',\n",
       "       '서울음악 교습 관련', '강서구 보험회사 관련', '노원구 재가요양서비스 관련', '성동구 시장 관련',\n",
       "       '송파구 시장 관련', '강남구 역삼역 관련', '강남구 럭키사우나 관련', '기타 확진자 접촉[강남구제약회사관련]',\n",
       "       '영등포구 가족관련[송파구소재건설현장)', '관악구 삼모스포렉스Ⅱ', '용인시 동문골프 모임',\n",
       "       '용산구 소재 의류업체', '서초구 빌딩 관련', '강서구 직장 관련', '송파구 잠언의료기(CJ텔레닉스)',\n",
       "       '종로구 녹음실 관련', '송파구 소재 교회관련', '동대문구 한국산업인력공단', '언론인 관련', '제주도 지인모임',\n",
       "       '구로구 가족관련', '구로구 가족관련[부천무용학원관련]', '영등포구 가족 관련(송파구소재 건설현장]',\n",
       "       '기타확진자 접촉', '은평구 방문교사 관련', '기타 확진자 접촉[경기도SRC재활병원]', '강남서초 지인모임',\n",
       "       '도봉구 가족 관련', '수도권 지인모임 Ⅱ', '중구 소재 콜센터', '수도권 지인모임 관련Ⅱ',\n",
       "       '영등포구 가족관련', '서대문구 소재 장례식장', '부천무용학원관련[구로구 가족관련]',\n",
       "       '강남구 CJ텔레닉스[잠언의료기]', '수도권 지인모임관련', '도봉구 예마루데이케어센터', '도봉구 다나병원',\n",
       "       '강남구 CJ텔레닉스', '송파구 잠언의료기', '강남구 CJ텔레닉스 관련', '강동구 행복데이케어센터',\n",
       "       '중랑구 이마트 상봉점', '해외 접촉 추정', '영등포구 방문판매업체 관련', '강남구 해냄세무회계',\n",
       "       '동작구 가족관련', '관악구 식당관련', '영등포구 소모임', '송파구 서민국수', '중구 소재 빌딩 관련',\n",
       "       '마포구 서울디자인 고등학교', '타시도 확진자 접촉[강원강릉시지인모임]', '강남승광빌딩 관련',\n",
       "       '관악구 사랑나무 어린이집', '관악구 큰믿음유신감리교회', '동대문구 성경모임(발산대우주어린이집)',\n",
       "       '강북구 북서울 꿈의교회', '강남구 소재 대우디오빌플러스', '영등포구 LG트윈타워', '부산시 방문주사 관련',\n",
       "       '서초구 소재 카페 관련', '관악구 지인모임', '동작구 부동산회사', '관악구 휘트니스 관련', '강남구 삼성화재',\n",
       "       '양천구 양천경찰서', '서초구 LG 유플러스', '고양시부부관련', '관악구 가족 관련', '관악구 식당 관련',\n",
       "       '고양시부부관련(마포구어린이집&서초구우체국)', '관악구가족 관련(가가호호데이케어센터)', '관악구 삼모스포렉스',\n",
       "       '신도림 역사 관련', '강남구 디와이디벨로먼트', '동대문구 성경모임', '송파구 우리교회', '중랑구 서울의료원',\n",
       "       '종로구 서울대병원', '성동구 덕수고 야구부', '프로그래머 지인모임', '강남구 신도벤처타워',\n",
       "       '강남구 K보건산업', '건축설명회', '종로구청 관련', '강남구 통신판매업', '도봉구 소재 아파트 관련',\n",
       "       '영등포 소재 증권회사', '서대문구 세브란스병원', '영등포구 소재 마트 관련', '강남구 소재 금융회사',\n",
       "       '동작구 요양시설 관련', '9월 송파구 지인모임', '은평구 수색성당', '서울지방국세청 관련', '수도권 지인모임',\n",
       "       '서대문구 지인모임', '영등포 지인모임', '관악구 에바다 관련', '광진구 혜민병원', '8.15서울도심집회',\n",
       "       '도봉구 건설현장', '도봉구 운동시설', '송파구 쿠팡 관련', '노원구 빛가온교회 관련', '서초구 장애인교육시설',\n",
       "       '강동구 BF모바일 관련', '영등포구 일련정종 서울포교소', '동작구 진흥글로벌', '구로구 아파트 관련',\n",
       "       'KT가좌지사 관련', '성북구 사랑제일교회 관련', '노원구 기도모임', '관악구 가족모임',\n",
       "       '영등포구 국회출입기자관련', '은평구 헤어콕 관련', '송파구 소재병원', '극단 산 관련', '영등포구 권능교회',\n",
       "       '강동구 소재 병원', '다래경매 관련', '성북구 체대입시 관련', '성북구 요양시설', '중구소재 은행 관련',\n",
       "       '중랑구 소재 체육시설', '동작구 소재 서울신학교', '동작구 닥터큐 관련', '용인시 우리제일교회 관련',\n",
       "       '노원구 손해보험 관련', '구로구 보성운수', '강서구 서울대효요양병원', '강북구 일가족', '강서구 보안회사',\n",
       "       '롯데리아 종사자 모임', '강남구 소재 아파트', '제주 게스트하우스 관련', '확인 중', '성북구 벧엘장로교회',\n",
       "       '관악구 김혜근의원', '동대문구 sk탁구클럽', '동작구 스터디카페', '군인권센터', '여의도 순복음교회 관련',\n",
       "       '중구 보험회사(현대해상)', '강서구 병원관련', '종로구 혜화경찰서 관련', '양천구 되새김교회 관련',\n",
       "       '현대커머셜', '영등포 IFC몰 오케스트로', '고양시 반석교회(케네디상가) 관련', '롯데 자산개발 관련',\n",
       "       '골드트레인', '한양대병원', '강동구 어린이집', '은평구 성경공부모임', '관악구 요양병원',\n",
       "       '고대 안암병원 관련', '마포구 푸본생명콜센터', '성동구 가족관련', '용인시 우리제일교회', '골드트레인 관련',\n",
       "       '양천구 되새김 교회', '고양시 반석교회(케네디상가)', '중구 통일상가', '고양시 반석교회 관련 (케네디상가)',\n",
       "       '강남구 판매업소(골드트레인)', '양천구 되새김교회', '양천구 확진자 접촉', '영등포구 확진자 접촉',\n",
       "       '강남구 확진자 접촉', '강남구 판매업소', '광진구 확진자 접촉', '고양시 반석교회 관련(케네디상가)',\n",
       "       '구로구 확진자 접촉', '종로구 확진자 접촉', '성북구 확진자 접촉', '서초구 확진자 접촉',\n",
       "       '마포구 확진자 접촉', '#14483 접촉', '#14488 접촉', '도봉구 가족관련', '강남구 커피전문점',\n",
       "       '선교회 소모임', '도봉구 확진자 접촉', '송파구 교회관련', '강서구 확진자 접촉', '송파구 확진자 접촉',\n",
       "       '종로구 지인모임 신명투자', '강서구 요양시설관련', '강남구 사무실 K빌딩', '송파구 지인모임',\n",
       "       '관악구 확진자 접촉', '중구 확진자 접촉', '강북구 확진자 접촉', '관악구 사무실 관련',\n",
       "       '은평구 확진자 접촉', '강남구 사무실 관련', '강남역삼동 금융회사', '확인중', '강서구 요양시설 관련',\n",
       "       '성동구 확진자 접촉', '강남구 이동통신 종사자', '강남구 역삼동 모임', '용산구 확진자 접촉',\n",
       "       '왕성교회 관련', '중랑구 일가족 관련', '관악구 일가족 관련', '대전 꿈꾸는 교회', '리치웨이 관련',\n",
       "       '동작구 확진자 접촉', '금천구 확진자 접촉', '요양시설 관련', '강동구 확진자 접촉', '시청역 관련',\n",
       "       '대자연코리아', '의왕 물류센터 관련', '금천구 도정기 회사 관련', '양천구 운동시설 관련',\n",
       "       '대전 다단계 관련', '오렌지라이프 관련', '수도권 개척교회 관련', '타시도 확진자 접촉자',\n",
       "       '연아나뉴스클래스 관련', '한국대학생선교회 관련', '해외접촉 추정', 'kb 생명보험 관련', '부천시 쿠팡 관련',\n",
       "       '이태원 클럽 관련', '용인 형제 관련', '삼성화재 관련', '서초구 가족 관련', '안양군포 목회자 관련',\n",
       "       '서초구 가족관련', '영등포 학원 관련', '강남구 동인교회 관련', '원어성경연구회 관련', '#11196 접촉',\n",
       "       '#10054 접촉', '#9800 접촉', '#10044 접촉', '#9641 접촉', '구로구 교회 관련',\n",
       "       '#10407 접촉', '#10015 접촉', '#9364 접촉', '#10377 접촉', '#9287 접촉',\n",
       "       '#10142 접촉', '#9912 접촉', '#9765 접촉', '#10115 접촉', '타시도 확진자 접촉(추정)',\n",
       "       '#8063 접촉', '#10084 접촉', '#8601 접촉', '#8717 접촉', '#9946 접촉',\n",
       "       '콜센터직원 접촉', '#8271 접촉', '#8669 접촉', '#9734 접촉', '#9621 접촉',\n",
       "       '#9572 접촉', '#9525 접촉', '#7914 접촉', '#8791 접촉', '#9219 접촉',\n",
       "       '#8057 접촉', '#8079 접촉', '#8646 접촉', '#9020 접촉', '#8245 접촉',\n",
       "       '#8709 접촉 추정', '#8881 접촉 추정', '구로구 콜센터 관련', '#8486 접촉', '동대문구 관련',\n",
       "       '#8196 접촉', '#8138 접촉', '구로구 콜센터 접촉', '#8044 접촉', '해외 접촉',\n",
       "       '#7923 접촉', '신천지 추정', '#7573 접축 추정', '#6959 접촉(추정)',\n",
       "       '#7280 접촉(추정)', '#7500 접촉(추정)', '#6727 첩촉', '대구 거주', '#6832 접촉자',\n",
       "       '#6921접촉자', '#935 접촉자', '#6937 접촉자', '성동구 아파트 관련', '대구 방문',\n",
       "       '부동산 중개 법인 관련', '여의도 건설현장 관련', '대구 확진자 접촉', '명성교회 관련',\n",
       "       '#794 접촉(추정)', '#2621번 접촉', '#1247 접촉(추정)', '부동산 중개업 관련', '쇼핑몰 관련',\n",
       "       '은평구 병원 관련', '경찰병원관련', '서울재생병원 관련', '신천지대구교회 관련', '#794 접촉자',\n",
       "       '대구 방문(명성교회)', '#780 접촉(추정)', '#56 접촉', '#136 접촉', '대구 거주자',\n",
       "       '#6 접촉(추정)', '#30 접촉', '#29 접촉', '#83 접촉', '#6 접촉', '#5 접촉',\n",
       "       '#3 접촉'], dtype=object)"
      ]
     },
     "execution_count": 19,
     "metadata": {},
     "output_type": "execute_result"
    }
   ],
   "source": [
    "# 확진자가 가장 많았던 날의 발생이력을 찾습니다.\n",
    "df[\"접촉력\"].unique()"
   ]
  },
  {
   "cell_type": "markdown",
   "metadata": {},
   "source": [
    "### 막대그래프 그리기"
   ]
  },
  {
   "cell_type": "code",
   "execution_count": 22,
   "metadata": {},
   "outputs": [
    {
     "data": {
      "text/plain": [
       "<AxesSubplot:>"
      ]
     },
     "execution_count": 22,
     "metadata": {},
     "output_type": "execute_result"
    },
    {
     "data": {
      "image/png": "[encoded data removed]",
      "text/plain": [
       "<Figure size 720x288 with 1 Axes>"
      ]
     },
     "metadata": {
      "image/png": {
       "height": 331,
       "width": 600
      },
      "needs_background": "light"
     },
     "output_type": "display_data"
    }
   ],
   "source": [
    "# 선그래프로 그렸던 그래프를 막대그래프로 그립니다.\n",
    "# 빈도수 높은 순으로, 모든 날짜 표시해줌\n",
    "# 막대그래프는 데이터를 범주형이라고 인식함, 빈도수로 자동 정렬\n",
    "# 연속된 수치 데이터는 선그래프로 그리는게 좋을수 있음\n",
    "\n",
    "day_count = df[\"확진일자\"].value_counts().sort_index()\n",
    "day_count.plot.bar(figsize = (10,4))"
   ]
  },
  {
   "cell_type": "markdown",
   "metadata": {},
   "source": [
    "### 최근 데이터만 슬라이싱으로 나눠 그리기"
   ]
  },
  {
   "cell_type": "code",
   "execution_count": 24,
   "metadata": {},
   "outputs": [
    {
     "data": {
      "text/plain": [
       "<AxesSubplot:>"
      ]
     },
     "execution_count": 24,
     "metadata": {},
     "output_type": "execute_result"
    },
    {
     "data": {
      "image/png": "[encoded data removed]",
      "text/plain": [
       "<Figure size 720x288 with 1 Axes>"
      ]
     },
     "metadata": {
      "image/png": {
       "height": 324,
       "width": 619
      },
      "needs_background": "light"
     },
     "output_type": "display_data"
    }
   ],
   "source": [
    "# 슬라이싱을 통해 최근 데이터만 그립니다.\n",
    "# rot로 라벨 텍스트 기울기 설정해줄 수 있음\n",
    "# 라벨값 조정하려면 matplotlib에서 설정을 일일이 조정해줘야 함\n",
    "# plotly로 비교적 손쉽게 인터랙티브 시각화도 가능\n",
    "\n",
    "day_count[-60:].plot.bar(figsize = (10,4), rot = 60)"
   ]
  },
  {
   "cell_type": "markdown",
   "metadata": {},
   "source": [
    "### 월별 확진자 수 그리기"
   ]
  },
  {
   "cell_type": "code",
   "execution_count": 25,
   "metadata": {},
   "outputs": [
    {
     "data": {
      "text/plain": [
       "<AxesSubplot:title={'center':'월별 확진자 수'}>"
      ]
     },
     "execution_count": 25,
     "metadata": {},
     "output_type": "execute_result"
    },
    {
     "data": {
      "image/png": "[encoded data removed]",
      "text/plain": [
       "<Figure size 432x288 with 1 Axes>"
      ]
     },
     "metadata": {
      "image/png": {
       "height": 264,
       "width": 378
      },
      "needs_background": "light"
     },
     "output_type": "display_data"
    }
   ],
   "source": [
    "# 월별 확진자수에 대한 빈도수를 구해서 시각화 합니다.\n",
    "df[\"월\"].value_counts().sort_index().plot.bar(rot = 0, title = \"월별 확진자 수\")"
   ]
  },
  {
   "cell_type": "markdown",
   "metadata": {},
   "source": [
    "### 주단위 확진자수 그리기"
   ]
  },
  {
   "cell_type": "code",
   "execution_count": 26,
   "metadata": {
    "scrolled": true
   },
   "outputs": [],
   "source": [
    "# 주별로 빈도수를 구합니다.\n",
    "# value_counts()는 값이 큰 순서대로 자동으로 정렬. sort_index() 해줘야 시간순 정렬\n",
    "week_count = df[\"주\"].value_counts().sort_index()"
   ]
  },
  {
   "cell_type": "code",
   "execution_count": 27,
   "metadata": {},
   "outputs": [
    {
     "data": {
      "text/plain": [
       "<AxesSubplot:title={'center':'주별 확진자 수'}>"
      ]
     },
     "execution_count": 27,
     "metadata": {},
     "output_type": "execute_result"
    },
    {
     "data": {
      "image/png": "[encoded data removed]",
      "text/plain": [
       "<Figure size 720x288 with 1 Axes>"
      ]
     },
     "metadata": {
      "image/png": {
       "height": 264,
       "width": 601
      },
      "needs_background": "light"
     },
     "output_type": "display_data"
    }
   ],
   "source": [
    "# 주단위 빈도수 막대그래프로 그리기\n",
    "week_count.plot.bar(figsize = (10,4), rot = 0, title = \"주별 확진자 수\")"
   ]
  },
  {
   "cell_type": "markdown",
   "metadata": {},
   "source": [
    "## 모든 날짜를 행에 만들어 주기\n",
    "* 확진자가 없는 날의 데이터도 만들어 줍니다."
   ]
  },
  {
   "cell_type": "code",
   "execution_count": 28,
   "metadata": {},
   "outputs": [
    {
     "data": {
      "text/plain": [
       "2020-01-24      1\n",
       "2020-01-30      3\n",
       "2020-01-31      3\n",
       "2020-02-02      1\n",
       "2020-02-05      2\n",
       "             ... \n",
       "2020-11-24    142\n",
       "2020-11-25    212\n",
       "2020-11-26    204\n",
       "2020-11-27    178\n",
       "2020-11-28    158\n",
       "Name: 확진일자, Length: 281, dtype: int64"
      ]
     },
     "execution_count": 28,
     "metadata": {},
     "output_type": "execute_result"
    }
   ],
   "source": [
    "df[\"확진일자\"].value_counts().sort_index()\n",
    "# 초반에 빠진날이 있어서 모든 날짜에 대한 시각화가 안됨"
   ]
  },
  {
   "cell_type": "code",
   "execution_count": 29,
   "metadata": {},
   "outputs": [
    {
     "data": {
      "text/plain": [
       "Timestamp('2020-01-24 00:00:00')"
      ]
     },
     "execution_count": 29,
     "metadata": {},
     "output_type": "execute_result"
    }
   ],
   "source": [
    "# 첫 확진일 부터 마지막 확진일까지 가져옵니다.\n",
    "# 데이터프레임의 첫번째 날짜는 first_day 에 마지막 날짜는 last_day 에 담습니다.\n",
    "# iloc는 인덱스 순서로 데이터 가져올 수 있음\n",
    "first_day = df.iloc[-1][\"확진일자\"]\n",
    "first_day"
   ]
  },
  {
   "cell_type": "code",
   "execution_count": 30,
   "metadata": {},
   "outputs": [
    {
     "data": {
      "text/plain": [
       "Timestamp('2020-11-28 00:00:00')"
      ]
     },
     "execution_count": 30,
     "metadata": {},
     "output_type": "execute_result"
    }
   ],
   "source": [
    "last_day = df.iloc[0][\"확진일자\"]\n",
    "last_day"
   ]
  },
  {
   "cell_type": "code",
   "execution_count": 31,
   "metadata": {},
   "outputs": [],
   "source": [
    "# pd.date_range 를 통해 시작하는 날짜부터 끝나는 날짜까지의 \n",
    "# DatetimeIndex 를 만들고 days 라는 변수에 저장합니다.\n",
    "\n",
    "days = pd.date_range(first_day, last_day)"
   ]
  },
  {
   "cell_type": "code",
   "execution_count": 32,
   "metadata": {},
   "outputs": [],
   "source": [
    "# days 변수의 값으로 \"연월일\" 이라는 컬럼이름을 갖는 데이터프레임을 만듭니다.\n",
    "# days.to_frame()\n",
    "df_days = days.to_frame()"
   ]
  },
  {
   "cell_type": "code",
   "execution_count": 33,
   "metadata": {},
   "outputs": [],
   "source": [
    "# 확진일자별로 빈도수 구하기\n",
    "daily_case = df[\"확진일자\"].value_counts().sort_index()"
   ]
  },
  {
   "cell_type": "code",
   "execution_count": 34,
   "metadata": {},
   "outputs": [
    {
     "data": {
      "text/html": [
       "<div>\n",
       "<style scoped>\n",
       "    .dataframe tbody tr th:only-of-type {\n",
       "        vertical-align: middle;\n",
       "    }\n",
       "\n",
       "    .dataframe tbody tr th {\n",
       "        vertical-align: top;\n",
       "    }\n",
       "\n",
       "    .dataframe thead th {\n",
       "        text-align: right;\n",
       "    }\n",
       "</style>\n",
       "<table border=\"1\" class=\"dataframe\">\n",
       "  <thead>\n",
       "    <tr style=\"text-align: right;\">\n",
       "      <th></th>\n",
       "      <th>index</th>\n",
       "      <th>확진일자</th>\n",
       "    </tr>\n",
       "  </thead>\n",
       "  <tbody>\n",
       "    <tr>\n",
       "      <th>0</th>\n",
       "      <td>2020-01-24</td>\n",
       "      <td>1</td>\n",
       "    </tr>\n",
       "    <tr>\n",
       "      <th>1</th>\n",
       "      <td>2020-01-30</td>\n",
       "      <td>3</td>\n",
       "    </tr>\n",
       "    <tr>\n",
       "      <th>2</th>\n",
       "      <td>2020-01-31</td>\n",
       "      <td>3</td>\n",
       "    </tr>\n",
       "    <tr>\n",
       "      <th>3</th>\n",
       "      <td>2020-02-02</td>\n",
       "      <td>1</td>\n",
       "    </tr>\n",
       "    <tr>\n",
       "      <th>4</th>\n",
       "      <td>2020-02-05</td>\n",
       "      <td>2</td>\n",
       "    </tr>\n",
       "    <tr>\n",
       "      <th>...</th>\n",
       "      <td>...</td>\n",
       "      <td>...</td>\n",
       "    </tr>\n",
       "    <tr>\n",
       "      <th>276</th>\n",
       "      <td>2020-11-24</td>\n",
       "      <td>142</td>\n",
       "    </tr>\n",
       "    <tr>\n",
       "      <th>277</th>\n",
       "      <td>2020-11-25</td>\n",
       "      <td>212</td>\n",
       "    </tr>\n",
       "    <tr>\n",
       "      <th>278</th>\n",
       "      <td>2020-11-26</td>\n",
       "      <td>204</td>\n",
       "    </tr>\n",
       "    <tr>\n",
       "      <th>279</th>\n",
       "      <td>2020-11-27</td>\n",
       "      <td>178</td>\n",
       "    </tr>\n",
       "    <tr>\n",
       "      <th>280</th>\n",
       "      <td>2020-11-28</td>\n",
       "      <td>158</td>\n",
       "    </tr>\n",
       "  </tbody>\n",
       "</table>\n",
       "<p>281 rows × 2 columns</p>\n",
       "</div>"
      ],
      "text/plain": [
       "         index  확진일자\n",
       "0   2020-01-24     1\n",
       "1   2020-01-30     3\n",
       "2   2020-01-31     3\n",
       "3   2020-02-02     1\n",
       "4   2020-02-05     2\n",
       "..         ...   ...\n",
       "276 2020-11-24   142\n",
       "277 2020-11-25   212\n",
       "278 2020-11-26   204\n",
       "279 2020-11-27   178\n",
       "280 2020-11-28   158\n",
       "\n",
       "[281 rows x 2 columns]"
      ]
     },
     "execution_count": 34,
     "metadata": {},
     "output_type": "execute_result"
    }
   ],
   "source": [
    "# 확진일자별로 빈도수 구한 내용을 데이터프레임으로 변환하기\n",
    "df_daily_case = daily_case.reset_index()\n",
    "df_daily_case"
   ]
  },
  {
   "cell_type": "code",
   "execution_count": 35,
   "metadata": {},
   "outputs": [
    {
     "data": {
      "text/html": [
       "<div>\n",
       "<style scoped>\n",
       "    .dataframe tbody tr th:only-of-type {\n",
       "        vertical-align: middle;\n",
       "    }\n",
       "\n",
       "    .dataframe tbody tr th {\n",
       "        vertical-align: top;\n",
       "    }\n",
       "\n",
       "    .dataframe thead th {\n",
       "        text-align: right;\n",
       "    }\n",
       "</style>\n",
       "<table border=\"1\" class=\"dataframe\">\n",
       "  <thead>\n",
       "    <tr style=\"text-align: right;\">\n",
       "      <th></th>\n",
       "      <th>확진일자</th>\n",
       "      <th>확진수</th>\n",
       "    </tr>\n",
       "  </thead>\n",
       "  <tbody>\n",
       "    <tr>\n",
       "      <th>0</th>\n",
       "      <td>2020-01-24</td>\n",
       "      <td>1</td>\n",
       "    </tr>\n",
       "    <tr>\n",
       "      <th>1</th>\n",
       "      <td>2020-01-30</td>\n",
       "      <td>3</td>\n",
       "    </tr>\n",
       "    <tr>\n",
       "      <th>2</th>\n",
       "      <td>2020-01-31</td>\n",
       "      <td>3</td>\n",
       "    </tr>\n",
       "    <tr>\n",
       "      <th>3</th>\n",
       "      <td>2020-02-02</td>\n",
       "      <td>1</td>\n",
       "    </tr>\n",
       "    <tr>\n",
       "      <th>4</th>\n",
       "      <td>2020-02-05</td>\n",
       "      <td>2</td>\n",
       "    </tr>\n",
       "    <tr>\n",
       "      <th>...</th>\n",
       "      <td>...</td>\n",
       "      <td>...</td>\n",
       "    </tr>\n",
       "    <tr>\n",
       "      <th>276</th>\n",
       "      <td>2020-11-24</td>\n",
       "      <td>142</td>\n",
       "    </tr>\n",
       "    <tr>\n",
       "      <th>277</th>\n",
       "      <td>2020-11-25</td>\n",
       "      <td>212</td>\n",
       "    </tr>\n",
       "    <tr>\n",
       "      <th>278</th>\n",
       "      <td>2020-11-26</td>\n",
       "      <td>204</td>\n",
       "    </tr>\n",
       "    <tr>\n",
       "      <th>279</th>\n",
       "      <td>2020-11-27</td>\n",
       "      <td>178</td>\n",
       "    </tr>\n",
       "    <tr>\n",
       "      <th>280</th>\n",
       "      <td>2020-11-28</td>\n",
       "      <td>158</td>\n",
       "    </tr>\n",
       "  </tbody>\n",
       "</table>\n",
       "<p>281 rows × 2 columns</p>\n",
       "</div>"
      ],
      "text/plain": [
       "          확진일자  확진수\n",
       "0   2020-01-24    1\n",
       "1   2020-01-30    3\n",
       "2   2020-01-31    3\n",
       "3   2020-02-02    1\n",
       "4   2020-02-05    2\n",
       "..         ...  ...\n",
       "276 2020-11-24  142\n",
       "277 2020-11-25  212\n",
       "278 2020-11-26  204\n",
       "279 2020-11-27  178\n",
       "280 2020-11-28  158\n",
       "\n",
       "[281 rows x 2 columns]"
      ]
     },
     "execution_count": 35,
     "metadata": {},
     "output_type": "execute_result"
    }
   ],
   "source": [
    "# value_counts 결과의 컬럼명을 \"확진수\" 로 바꾸기\n",
    "df_daily_case.columns = [\"확진일자\", \"확진수\"]\n",
    "df_daily_case"
   ]
  },
  {
   "cell_type": "markdown",
   "metadata": {},
   "source": [
    "### merge 를 통해 전체 확진일자 만들기\n",
    "* 이미지 출처 및 Pandas 공식문서 보기 : [How to combine data from multiple tables? — pandas documentation](https://pandas.pydata.org/pandas-docs/stable/getting_started/intro_tutorials/08_combine_dataframes.html#join-tables-using-a-common-identifier)\n",
    "\n",
    "<img src=\"https://pandas.pydata.org/pandas-docs/stable/_images/08_merge_left.svg\">"
   ]
  },
  {
   "cell_type": "code",
   "execution_count": 36,
   "metadata": {},
   "outputs": [
    {
     "data": {
      "text/html": [
       "<div>\n",
       "<style scoped>\n",
       "    .dataframe tbody tr th:only-of-type {\n",
       "        vertical-align: middle;\n",
       "    }\n",
       "\n",
       "    .dataframe tbody tr th {\n",
       "        vertical-align: top;\n",
       "    }\n",
       "\n",
       "    .dataframe thead th {\n",
       "        text-align: right;\n",
       "    }\n",
       "</style>\n",
       "<table border=\"1\" class=\"dataframe\">\n",
       "  <thead>\n",
       "    <tr style=\"text-align: right;\">\n",
       "      <th></th>\n",
       "      <th>확진일자</th>\n",
       "      <th>확진수</th>\n",
       "    </tr>\n",
       "  </thead>\n",
       "  <tbody>\n",
       "    <tr>\n",
       "      <th>0</th>\n",
       "      <td>2020-01-24</td>\n",
       "      <td>1.0</td>\n",
       "    </tr>\n",
       "    <tr>\n",
       "      <th>1</th>\n",
       "      <td>2020-01-25</td>\n",
       "      <td>NaN</td>\n",
       "    </tr>\n",
       "    <tr>\n",
       "      <th>2</th>\n",
       "      <td>2020-01-26</td>\n",
       "      <td>NaN</td>\n",
       "    </tr>\n",
       "    <tr>\n",
       "      <th>3</th>\n",
       "      <td>2020-01-27</td>\n",
       "      <td>NaN</td>\n",
       "    </tr>\n",
       "    <tr>\n",
       "      <th>4</th>\n",
       "      <td>2020-01-28</td>\n",
       "      <td>NaN</td>\n",
       "    </tr>\n",
       "    <tr>\n",
       "      <th>...</th>\n",
       "      <td>...</td>\n",
       "      <td>...</td>\n",
       "    </tr>\n",
       "    <tr>\n",
       "      <th>305</th>\n",
       "      <td>2020-11-24</td>\n",
       "      <td>142.0</td>\n",
       "    </tr>\n",
       "    <tr>\n",
       "      <th>306</th>\n",
       "      <td>2020-11-25</td>\n",
       "      <td>212.0</td>\n",
       "    </tr>\n",
       "    <tr>\n",
       "      <th>307</th>\n",
       "      <td>2020-11-26</td>\n",
       "      <td>204.0</td>\n",
       "    </tr>\n",
       "    <tr>\n",
       "      <th>308</th>\n",
       "      <td>2020-11-27</td>\n",
       "      <td>178.0</td>\n",
       "    </tr>\n",
       "    <tr>\n",
       "      <th>309</th>\n",
       "      <td>2020-11-28</td>\n",
       "      <td>158.0</td>\n",
       "    </tr>\n",
       "  </tbody>\n",
       "</table>\n",
       "<p>310 rows × 2 columns</p>\n",
       "</div>"
      ],
      "text/plain": [
       "          확진일자    확진수\n",
       "0   2020-01-24    1.0\n",
       "1   2020-01-25    NaN\n",
       "2   2020-01-26    NaN\n",
       "3   2020-01-27    NaN\n",
       "4   2020-01-28    NaN\n",
       "..         ...    ...\n",
       "305 2020-11-24  142.0\n",
       "306 2020-11-25  212.0\n",
       "307 2020-11-26  204.0\n",
       "308 2020-11-27  178.0\n",
       "309 2020-11-28  158.0\n",
       "\n",
       "[310 rows x 2 columns]"
      ]
     },
     "execution_count": 36,
     "metadata": {},
     "output_type": "execute_result"
    }
   ],
   "source": [
    "# 확진자가 없는 날도 일자에 표현이 되도록 전체 일자와 확진 데이터를 merge 로 합쳐줍니다.\n",
    "# 1321\n",
    "all_day = df_days.merge(df_daily_case, left_on = df_days.index, right_on = \"확진일자\", how = \"left\")\n",
    "all_day = all_day.drop(0, axis = 1)\n",
    "all_day"
   ]
  },
  {
   "cell_type": "markdown",
   "metadata": {},
   "source": [
    "## 누적 확진자 수 구하기"
   ]
  },
  {
   "cell_type": "code",
   "execution_count": 37,
   "metadata": {},
   "outputs": [
    {
     "data": {
      "text/plain": [
       "float"
      ]
     },
     "execution_count": 37,
     "metadata": {},
     "output_type": "execute_result"
    }
   ],
   "source": [
    "type(np.nan)"
   ]
  },
  {
   "cell_type": "code",
   "execution_count": 38,
   "metadata": {},
   "outputs": [
    {
     "data": {
      "text/html": [
       "<div>\n",
       "<style scoped>\n",
       "    .dataframe tbody tr th:only-of-type {\n",
       "        vertical-align: middle;\n",
       "    }\n",
       "\n",
       "    .dataframe tbody tr th {\n",
       "        vertical-align: top;\n",
       "    }\n",
       "\n",
       "    .dataframe thead th {\n",
       "        text-align: right;\n",
       "    }\n",
       "</style>\n",
       "<table border=\"1\" class=\"dataframe\">\n",
       "  <thead>\n",
       "    <tr style=\"text-align: right;\">\n",
       "      <th></th>\n",
       "      <th>확진일자</th>\n",
       "      <th>확진수</th>\n",
       "    </tr>\n",
       "  </thead>\n",
       "  <tbody>\n",
       "    <tr>\n",
       "      <th>0</th>\n",
       "      <td>2020-01-24</td>\n",
       "      <td>1.0</td>\n",
       "    </tr>\n",
       "    <tr>\n",
       "      <th>1</th>\n",
       "      <td>2020-01-25</td>\n",
       "      <td>0.0</td>\n",
       "    </tr>\n",
       "    <tr>\n",
       "      <th>2</th>\n",
       "      <td>2020-01-26</td>\n",
       "      <td>0.0</td>\n",
       "    </tr>\n",
       "    <tr>\n",
       "      <th>3</th>\n",
       "      <td>2020-01-27</td>\n",
       "      <td>0.0</td>\n",
       "    </tr>\n",
       "    <tr>\n",
       "      <th>4</th>\n",
       "      <td>2020-01-28</td>\n",
       "      <td>0.0</td>\n",
       "    </tr>\n",
       "    <tr>\n",
       "      <th>...</th>\n",
       "      <td>...</td>\n",
       "      <td>...</td>\n",
       "    </tr>\n",
       "    <tr>\n",
       "      <th>305</th>\n",
       "      <td>2020-11-24</td>\n",
       "      <td>142.0</td>\n",
       "    </tr>\n",
       "    <tr>\n",
       "      <th>306</th>\n",
       "      <td>2020-11-25</td>\n",
       "      <td>212.0</td>\n",
       "    </tr>\n",
       "    <tr>\n",
       "      <th>307</th>\n",
       "      <td>2020-11-26</td>\n",
       "      <td>204.0</td>\n",
       "    </tr>\n",
       "    <tr>\n",
       "      <th>308</th>\n",
       "      <td>2020-11-27</td>\n",
       "      <td>178.0</td>\n",
       "    </tr>\n",
       "    <tr>\n",
       "      <th>309</th>\n",
       "      <td>2020-11-28</td>\n",
       "      <td>158.0</td>\n",
       "    </tr>\n",
       "  </tbody>\n",
       "</table>\n",
       "<p>310 rows × 2 columns</p>\n",
       "</div>"
      ],
      "text/plain": [
       "          확진일자    확진수\n",
       "0   2020-01-24    1.0\n",
       "1   2020-01-25    0.0\n",
       "2   2020-01-26    0.0\n",
       "3   2020-01-27    0.0\n",
       "4   2020-01-28    0.0\n",
       "..         ...    ...\n",
       "305 2020-11-24  142.0\n",
       "306 2020-11-25  212.0\n",
       "307 2020-11-26  204.0\n",
       "308 2020-11-27  178.0\n",
       "309 2020-11-28  158.0\n",
       "\n",
       "[310 rows x 2 columns]"
      ]
     },
     "execution_count": 38,
     "metadata": {},
     "output_type": "execute_result"
    }
   ],
   "source": [
    "# 확진수를 fillna를 통해 결측치를 0으로 채워주고 누적해서 더해줍니다.\n",
    "# 확진수 컬럼은 nan값 때문에 float 타입으로 되어있음\n",
    "all_day = all_day.fillna(0)\n",
    "all_day"
   ]
  },
  {
   "cell_type": "code",
   "execution_count": 39,
   "metadata": {
    "scrolled": true
   },
   "outputs": [
    {
     "data": {
      "text/html": [
       "<div>\n",
       "<style scoped>\n",
       "    .dataframe tbody tr th:only-of-type {\n",
       "        vertical-align: middle;\n",
       "    }\n",
       "\n",
       "    .dataframe tbody tr th {\n",
       "        vertical-align: top;\n",
       "    }\n",
       "\n",
       "    .dataframe thead th {\n",
       "        text-align: right;\n",
       "    }\n",
       "</style>\n",
       "<table border=\"1\" class=\"dataframe\">\n",
       "  <thead>\n",
       "    <tr style=\"text-align: right;\">\n",
       "      <th></th>\n",
       "      <th>확진일자</th>\n",
       "      <th>확진수</th>\n",
       "      <th>일자</th>\n",
       "    </tr>\n",
       "  </thead>\n",
       "  <tbody>\n",
       "    <tr>\n",
       "      <th>0</th>\n",
       "      <td>2020-01-24</td>\n",
       "      <td>1.0</td>\n",
       "      <td>01-24</td>\n",
       "    </tr>\n",
       "    <tr>\n",
       "      <th>1</th>\n",
       "      <td>2020-01-25</td>\n",
       "      <td>0.0</td>\n",
       "      <td>01-25</td>\n",
       "    </tr>\n",
       "    <tr>\n",
       "      <th>2</th>\n",
       "      <td>2020-01-26</td>\n",
       "      <td>0.0</td>\n",
       "      <td>01-26</td>\n",
       "    </tr>\n",
       "    <tr>\n",
       "      <th>3</th>\n",
       "      <td>2020-01-27</td>\n",
       "      <td>0.0</td>\n",
       "      <td>01-27</td>\n",
       "    </tr>\n",
       "    <tr>\n",
       "      <th>4</th>\n",
       "      <td>2020-01-28</td>\n",
       "      <td>0.0</td>\n",
       "      <td>01-28</td>\n",
       "    </tr>\n",
       "    <tr>\n",
       "      <th>...</th>\n",
       "      <td>...</td>\n",
       "      <td>...</td>\n",
       "      <td>...</td>\n",
       "    </tr>\n",
       "    <tr>\n",
       "      <th>305</th>\n",
       "      <td>2020-11-24</td>\n",
       "      <td>142.0</td>\n",
       "      <td>11-24</td>\n",
       "    </tr>\n",
       "    <tr>\n",
       "      <th>306</th>\n",
       "      <td>2020-11-25</td>\n",
       "      <td>212.0</td>\n",
       "      <td>11-25</td>\n",
       "    </tr>\n",
       "    <tr>\n",
       "      <th>307</th>\n",
       "      <td>2020-11-26</td>\n",
       "      <td>204.0</td>\n",
       "      <td>11-26</td>\n",
       "    </tr>\n",
       "    <tr>\n",
       "      <th>308</th>\n",
       "      <td>2020-11-27</td>\n",
       "      <td>178.0</td>\n",
       "      <td>11-27</td>\n",
       "    </tr>\n",
       "    <tr>\n",
       "      <th>309</th>\n",
       "      <td>2020-11-28</td>\n",
       "      <td>158.0</td>\n",
       "      <td>11-28</td>\n",
       "    </tr>\n",
       "  </tbody>\n",
       "</table>\n",
       "<p>310 rows × 3 columns</p>\n",
       "</div>"
      ],
      "text/plain": [
       "          확진일자    확진수     일자\n",
       "0   2020-01-24    1.0  01-24\n",
       "1   2020-01-25    0.0  01-25\n",
       "2   2020-01-26    0.0  01-26\n",
       "3   2020-01-27    0.0  01-27\n",
       "4   2020-01-28    0.0  01-28\n",
       "..         ...    ...    ...\n",
       "305 2020-11-24  142.0  11-24\n",
       "306 2020-11-25  212.0  11-25\n",
       "307 2020-11-26  204.0  11-26\n",
       "308 2020-11-27  178.0  11-27\n",
       "309 2020-11-28  158.0  11-28\n",
       "\n",
       "[310 rows x 3 columns]"
      ]
     },
     "execution_count": 39,
     "metadata": {},
     "output_type": "execute_result"
    }
   ],
   "source": [
    "# 연도를 제외하고 월-일로 \"일자\" 컬럼 만들기\n",
    "# string type으로 바꾸고 인덱싱\n",
    "all_day[\"일자\"] = all_day[\"확진일자\"].astype(str).str[-5:]\n",
    "all_day"
   ]
  },
  {
   "cell_type": "code",
   "execution_count": 40,
   "metadata": {},
   "outputs": [
    {
     "data": {
      "text/html": [
       "<div>\n",
       "<style scoped>\n",
       "    .dataframe tbody tr th:only-of-type {\n",
       "        vertical-align: middle;\n",
       "    }\n",
       "\n",
       "    .dataframe tbody tr th {\n",
       "        vertical-align: top;\n",
       "    }\n",
       "\n",
       "    .dataframe thead th {\n",
       "        text-align: right;\n",
       "    }\n",
       "</style>\n",
       "<table border=\"1\" class=\"dataframe\">\n",
       "  <thead>\n",
       "    <tr style=\"text-align: right;\">\n",
       "      <th></th>\n",
       "      <th>확진일자</th>\n",
       "      <th>확진수</th>\n",
       "      <th>일자</th>\n",
       "      <th>누적확진</th>\n",
       "    </tr>\n",
       "  </thead>\n",
       "  <tbody>\n",
       "    <tr>\n",
       "      <th>0</th>\n",
       "      <td>2020-01-24</td>\n",
       "      <td>1.0</td>\n",
       "      <td>01-24</td>\n",
       "      <td>1.0</td>\n",
       "    </tr>\n",
       "    <tr>\n",
       "      <th>1</th>\n",
       "      <td>2020-01-25</td>\n",
       "      <td>0.0</td>\n",
       "      <td>01-25</td>\n",
       "      <td>1.0</td>\n",
       "    </tr>\n",
       "    <tr>\n",
       "      <th>2</th>\n",
       "      <td>2020-01-26</td>\n",
       "      <td>0.0</td>\n",
       "      <td>01-26</td>\n",
       "      <td>1.0</td>\n",
       "    </tr>\n",
       "    <tr>\n",
       "      <th>3</th>\n",
       "      <td>2020-01-27</td>\n",
       "      <td>0.0</td>\n",
       "      <td>01-27</td>\n",
       "      <td>1.0</td>\n",
       "    </tr>\n",
       "    <tr>\n",
       "      <th>4</th>\n",
       "      <td>2020-01-28</td>\n",
       "      <td>0.0</td>\n",
       "      <td>01-28</td>\n",
       "      <td>1.0</td>\n",
       "    </tr>\n",
       "    <tr>\n",
       "      <th>5</th>\n",
       "      <td>2020-01-29</td>\n",
       "      <td>0.0</td>\n",
       "      <td>01-29</td>\n",
       "      <td>1.0</td>\n",
       "    </tr>\n",
       "    <tr>\n",
       "      <th>6</th>\n",
       "      <td>2020-01-30</td>\n",
       "      <td>3.0</td>\n",
       "      <td>01-30</td>\n",
       "      <td>4.0</td>\n",
       "    </tr>\n",
       "    <tr>\n",
       "      <th>7</th>\n",
       "      <td>2020-01-31</td>\n",
       "      <td>3.0</td>\n",
       "      <td>01-31</td>\n",
       "      <td>7.0</td>\n",
       "    </tr>\n",
       "    <tr>\n",
       "      <th>8</th>\n",
       "      <td>2020-02-01</td>\n",
       "      <td>0.0</td>\n",
       "      <td>02-01</td>\n",
       "      <td>7.0</td>\n",
       "    </tr>\n",
       "    <tr>\n",
       "      <th>9</th>\n",
       "      <td>2020-02-02</td>\n",
       "      <td>1.0</td>\n",
       "      <td>02-02</td>\n",
       "      <td>8.0</td>\n",
       "    </tr>\n",
       "    <tr>\n",
       "      <th>10</th>\n",
       "      <td>2020-02-03</td>\n",
       "      <td>0.0</td>\n",
       "      <td>02-03</td>\n",
       "      <td>8.0</td>\n",
       "    </tr>\n",
       "    <tr>\n",
       "      <th>11</th>\n",
       "      <td>2020-02-04</td>\n",
       "      <td>0.0</td>\n",
       "      <td>02-04</td>\n",
       "      <td>8.0</td>\n",
       "    </tr>\n",
       "    <tr>\n",
       "      <th>12</th>\n",
       "      <td>2020-02-05</td>\n",
       "      <td>2.0</td>\n",
       "      <td>02-05</td>\n",
       "      <td>10.0</td>\n",
       "    </tr>\n",
       "    <tr>\n",
       "      <th>13</th>\n",
       "      <td>2020-02-06</td>\n",
       "      <td>1.0</td>\n",
       "      <td>02-06</td>\n",
       "      <td>11.0</td>\n",
       "    </tr>\n",
       "    <tr>\n",
       "      <th>14</th>\n",
       "      <td>2020-02-07</td>\n",
       "      <td>1.0</td>\n",
       "      <td>02-07</td>\n",
       "      <td>12.0</td>\n",
       "    </tr>\n",
       "    <tr>\n",
       "      <th>15</th>\n",
       "      <td>2020-02-08</td>\n",
       "      <td>0.0</td>\n",
       "      <td>02-08</td>\n",
       "      <td>12.0</td>\n",
       "    </tr>\n",
       "    <tr>\n",
       "      <th>16</th>\n",
       "      <td>2020-02-09</td>\n",
       "      <td>0.0</td>\n",
       "      <td>02-09</td>\n",
       "      <td>12.0</td>\n",
       "    </tr>\n",
       "    <tr>\n",
       "      <th>17</th>\n",
       "      <td>2020-02-10</td>\n",
       "      <td>0.0</td>\n",
       "      <td>02-10</td>\n",
       "      <td>12.0</td>\n",
       "    </tr>\n",
       "    <tr>\n",
       "      <th>18</th>\n",
       "      <td>2020-02-11</td>\n",
       "      <td>0.0</td>\n",
       "      <td>02-11</td>\n",
       "      <td>12.0</td>\n",
       "    </tr>\n",
       "    <tr>\n",
       "      <th>19</th>\n",
       "      <td>2020-02-12</td>\n",
       "      <td>0.0</td>\n",
       "      <td>02-12</td>\n",
       "      <td>12.0</td>\n",
       "    </tr>\n",
       "  </tbody>\n",
       "</table>\n",
       "</div>"
      ],
      "text/plain": [
       "         확진일자  확진수     일자  누적확진\n",
       "0  2020-01-24  1.0  01-24   1.0\n",
       "1  2020-01-25  0.0  01-25   1.0\n",
       "2  2020-01-26  0.0  01-26   1.0\n",
       "3  2020-01-27  0.0  01-27   1.0\n",
       "4  2020-01-28  0.0  01-28   1.0\n",
       "5  2020-01-29  0.0  01-29   1.0\n",
       "6  2020-01-30  3.0  01-30   4.0\n",
       "7  2020-01-31  3.0  01-31   7.0\n",
       "8  2020-02-01  0.0  02-01   7.0\n",
       "9  2020-02-02  1.0  02-02   8.0\n",
       "10 2020-02-03  0.0  02-03   8.0\n",
       "11 2020-02-04  0.0  02-04   8.0\n",
       "12 2020-02-05  2.0  02-05  10.0\n",
       "13 2020-02-06  1.0  02-06  11.0\n",
       "14 2020-02-07  1.0  02-07  12.0\n",
       "15 2020-02-08  0.0  02-08  12.0\n",
       "16 2020-02-09  0.0  02-09  12.0\n",
       "17 2020-02-10  0.0  02-10  12.0\n",
       "18 2020-02-11  0.0  02-11  12.0\n",
       "19 2020-02-12  0.0  02-12  12.0"
      ]
     },
     "execution_count": 40,
     "metadata": {},
     "output_type": "execute_result"
    }
   ],
   "source": [
    "# \"확진수\", \"누적확진\" 컬럼을 갖는 데이터프레임을 만듭니다.\n",
    "# cum_day\n",
    "all_day[\"누적확진\"] = all_day[\"확진수\"].cumsum()\n",
    "all_day.head(20)"
   ]
  },
  {
   "cell_type": "markdown",
   "metadata": {},
   "source": [
    "### 데이터프레임으로 그리기"
   ]
  },
  {
   "cell_type": "code",
   "execution_count": 41,
   "metadata": {},
   "outputs": [
    {
     "data": {
      "text/plain": [
       "<AxesSubplot:title={'center':'확진수와 누적확진수'}, xlabel='확진일자'>"
      ]
     },
     "execution_count": 41,
     "metadata": {},
     "output_type": "execute_result"
    },
    {
     "data": {
      "image/png": "[encoded data removed]",
      "text/plain": [
       "<Figure size 720x216 with 2 Axes>"
      ]
     },
     "metadata": {
      "image/png": {
       "height": 237,
       "width": 624
      },
      "needs_background": "light"
     },
     "output_type": "display_data"
    }
   ],
   "source": [
    "# 데이터프레임으로 확진수와 누적확진을 선그래프로 그립니다.\n",
    "# x축에 들어갈 값을 인덱스로 만들어주면 됨 (여기서 확진일자)\n",
    "# 권장하는 방법은 아님 (확진수, 누적확진수 스케일이 달라서 확진수의 변화가 잘 안보임)\n",
    "# 스케일 다를때 1) 그래프 그릴 때 스케일이 다른 경우 로그변환 해서 그리기도 함\n",
    "# 스케일 다를때 2) secondary_y : 스케일을 y축에 추가해줌\n",
    "\n",
    "all_day.set_index(\"확진일자\")[[\"확진수\", \"누적확진\"]].plot(figsize=(10,3), title = \"확진수와 누적확진수\",\n",
    "                                                secondary_y = \"누적확진\")"
   ]
  },
  {
   "cell_type": "markdown",
   "metadata": {},
   "source": [
    "### 시리즈로 그리기"
   ]
  },
  {
   "cell_type": "code",
   "execution_count": 42,
   "metadata": {},
   "outputs": [
    {
     "data": {
      "text/plain": [
       "<AxesSubplot:xlabel='확진일자'>"
      ]
     },
     "execution_count": 42,
     "metadata": {},
     "output_type": "execute_result"
    },
    {
     "data": {
      "image/png": "[encoded data removed]",
      "text/plain": [
       "<Figure size 720x216 with 1 Axes>"
      ]
     },
     "metadata": {
      "image/png": {
       "height": 221,
       "width": 601
      },
      "needs_background": "light"
     },
     "output_type": "display_data"
    }
   ],
   "source": [
    "# 시리즈로 2개의 그래프 그리기\n",
    "# 연속으로 코드 쓰면 겹쳐서 그려줌\n",
    "# 범례값을 따로 설정해줘야 하므로 위 방법이 편리함\n",
    "all_day.set_index(\"확진일자\")[\"확진수\"].plot(figsize = (10,3))\n",
    "all_day.set_index(\"확진일자\")[\"누적확진\"].plot()"
   ]
  },
  {
   "cell_type": "markdown",
   "metadata": {},
   "source": [
    "### 확진수만 따로 그리기"
   ]
  },
  {
   "cell_type": "code",
   "execution_count": 43,
   "metadata": {
    "scrolled": true
   },
   "outputs": [
    {
     "data": {
      "text/plain": [
       "<AxesSubplot:xlabel='확진일자'>"
      ]
     },
     "execution_count": 43,
     "metadata": {},
     "output_type": "execute_result"
    },
    {
     "data": {
      "image/png": "[encoded data removed]",
      "text/plain": [
       "<Figure size 720x216 with 1 Axes>"
      ]
     },
     "metadata": {
      "image/png": {
       "height": 221,
       "width": 595
      },
      "needs_background": "light"
     },
     "output_type": "display_data"
    }
   ],
   "source": [
    "# 누적확진수와 확진수와 차이가 크면 제대로 보이지 않기 때문에 확진수만 그립니다.\n",
    "# pandas로 그래프 그릴때는 중심축을 set_index 해주는게 중요 (cf. seaborn)\n",
    "# seaborn으로 시각화 하는 것은 조금 차이가 있음. pandas, seaborn이 각각 강점있는 분야가 있음.\n",
    "all_day.set_index(\"확진일자\")[\"확진수\"].plot(figsize = (10, 3))"
   ]
  },
  {
   "cell_type": "markdown",
   "metadata": {},
   "source": [
    "### 누적확진만 따로 그리기"
   ]
  },
  {
   "cell_type": "code",
   "execution_count": 44,
   "metadata": {},
   "outputs": [
    {
     "data": {
      "text/plain": [
       "<AxesSubplot:xlabel='확진일자'>"
      ]
     },
     "execution_count": 44,
     "metadata": {},
     "output_type": "execute_result"
    },
    {
     "data": {
      "image/png": "[encoded data removed]",
      "text/plain": [
       "<Figure size 720x216 with 1 Axes>"
      ]
     },
     "metadata": {
      "image/png": {
       "height": 221,
       "width": 601
      },
      "needs_background": "light"
     },
     "output_type": "display_data"
    }
   ],
   "source": [
    "# 누적확진만 따로 그립니다.\n",
    "all_day.set_index(\"확진일자\")[\"누적확진\"].plot(figsize = (10, 3))"
   ]
  },
  {
   "cell_type": "markdown",
   "metadata": {},
   "source": [
    "### 로그스케일\n",
    "* 차이가 너무 커서 그래프가 자세히 보이지 않을때 로그스케일로 표현하면 차이가 큰 값의 스케일을 조정해주게 됩니다."
   ]
  },
  {
   "cell_type": "code",
   "execution_count": 45,
   "metadata": {},
   "outputs": [],
   "source": [
    "all_day = all_day.set_index(\"확진일자\")"
   ]
  },
  {
   "cell_type": "code",
   "execution_count": 46,
   "metadata": {
    "scrolled": true
   },
   "outputs": [
    {
     "data": {
      "text/plain": [
       "<AxesSubplot:>"
      ]
     },
     "execution_count": 46,
     "metadata": {},
     "output_type": "execute_result"
    },
    {
     "data": {
      "image/png": "[encoded data removed]",
      "text/plain": [
       "<Figure size 432x288 with 1 Axes>"
      ]
     },
     "metadata": {
      "image/png": {
       "height": 249,
       "width": 372
      },
      "needs_background": "light"
     },
     "output_type": "display_data"
    }
   ],
   "source": [
    "all_day[\"확진수\"].hist()"
   ]
  },
  {
   "cell_type": "code",
   "execution_count": 47,
   "metadata": {},
   "outputs": [
    {
     "data": {
      "text/plain": [
       "<AxesSubplot:>"
      ]
     },
     "execution_count": 47,
     "metadata": {},
     "output_type": "execute_result"
    },
    {
     "data": {
      "image/png": "[encoded data removed]",
      "text/plain": [
       "<Figure size 432x288 with 1 Axes>"
      ]
     },
     "metadata": {
      "image/png": {
       "height": 249,
       "width": 367
      },
      "needs_background": "light"
     },
     "output_type": "display_data"
    }
   ],
   "source": [
    "# 로그값으로 정규화\n",
    "np.log1p(all_day[\"확진수\"]).hist()"
   ]
  },
  {
   "cell_type": "code",
   "execution_count": 48,
   "metadata": {
    "scrolled": true
   },
   "outputs": [
    {
     "data": {
      "text/plain": [
       "<AxesSubplot:xlabel='확진일자'>"
      ]
     },
     "execution_count": 48,
     "metadata": {},
     "output_type": "execute_result"
    },
    {
     "data": {
      "image/png": "[encoded data removed]",
      "text/plain": [
       "<Figure size 720x288 with 1 Axes>"
      ]
     },
     "metadata": {
      "image/png": {
       "height": 275,
       "width": 584
      },
      "needs_background": "light"
     },
     "output_type": "display_data"
    }
   ],
   "source": [
    "# 0값에 로그 취하면 -inf 나와서 오류남\n",
    "# 아래 2개 방법중 하나로 (1을 더해주거나 log1p 함수 쓰거나)\n",
    "# np.log(all_day[\"확진수\"] + 1)\n",
    "# seaborn에는 로그 취하는것이 옵션으로 들어있음\n",
    "\n",
    "np.log1p(all_day[\"확진수\"]).plot(figsize = (10,4))\n",
    "np.log1p(all_day[\"누적확진\"]).plot()"
   ]
  },
  {
   "cell_type": "markdown",
   "metadata": {},
   "source": [
    "## 확진월과 요일 구하기"
   ]
  },
  {
   "cell_type": "code",
   "execution_count": 49,
   "metadata": {},
   "outputs": [
    {
     "data": {
      "text/html": [
       "<div>\n",
       "<style scoped>\n",
       "    .dataframe tbody tr th:only-of-type {\n",
       "        vertical-align: middle;\n",
       "    }\n",
       "\n",
       "    .dataframe tbody tr th {\n",
       "        vertical-align: top;\n",
       "    }\n",
       "\n",
       "    .dataframe thead th {\n",
       "        text-align: right;\n",
       "    }\n",
       "</style>\n",
       "<table border=\"1\" class=\"dataframe\">\n",
       "  <thead>\n",
       "    <tr style=\"text-align: right;\">\n",
       "      <th></th>\n",
       "      <th>확진일자</th>\n",
       "      <th>확진수</th>\n",
       "      <th>일자</th>\n",
       "      <th>누적확진</th>\n",
       "      <th>월</th>\n",
       "      <th>요일</th>\n",
       "    </tr>\n",
       "  </thead>\n",
       "  <tbody>\n",
       "    <tr>\n",
       "      <th>0</th>\n",
       "      <td>2020-01-24</td>\n",
       "      <td>1.0</td>\n",
       "      <td>01-24</td>\n",
       "      <td>1.0</td>\n",
       "      <td>1</td>\n",
       "      <td>4</td>\n",
       "    </tr>\n",
       "    <tr>\n",
       "      <th>1</th>\n",
       "      <td>2020-01-25</td>\n",
       "      <td>0.0</td>\n",
       "      <td>01-25</td>\n",
       "      <td>1.0</td>\n",
       "      <td>1</td>\n",
       "      <td>5</td>\n",
       "    </tr>\n",
       "    <tr>\n",
       "      <th>2</th>\n",
       "      <td>2020-01-26</td>\n",
       "      <td>0.0</td>\n",
       "      <td>01-26</td>\n",
       "      <td>1.0</td>\n",
       "      <td>1</td>\n",
       "      <td>6</td>\n",
       "    </tr>\n",
       "    <tr>\n",
       "      <th>3</th>\n",
       "      <td>2020-01-27</td>\n",
       "      <td>0.0</td>\n",
       "      <td>01-27</td>\n",
       "      <td>1.0</td>\n",
       "      <td>1</td>\n",
       "      <td>0</td>\n",
       "    </tr>\n",
       "    <tr>\n",
       "      <th>4</th>\n",
       "      <td>2020-01-28</td>\n",
       "      <td>0.0</td>\n",
       "      <td>01-28</td>\n",
       "      <td>1.0</td>\n",
       "      <td>1</td>\n",
       "      <td>1</td>\n",
       "    </tr>\n",
       "    <tr>\n",
       "      <th>...</th>\n",
       "      <td>...</td>\n",
       "      <td>...</td>\n",
       "      <td>...</td>\n",
       "      <td>...</td>\n",
       "      <td>...</td>\n",
       "      <td>...</td>\n",
       "    </tr>\n",
       "    <tr>\n",
       "      <th>305</th>\n",
       "      <td>2020-11-24</td>\n",
       "      <td>142.0</td>\n",
       "      <td>11-24</td>\n",
       "      <td>7900.0</td>\n",
       "      <td>11</td>\n",
       "      <td>1</td>\n",
       "    </tr>\n",
       "    <tr>\n",
       "      <th>306</th>\n",
       "      <td>2020-11-25</td>\n",
       "      <td>212.0</td>\n",
       "      <td>11-25</td>\n",
       "      <td>8112.0</td>\n",
       "      <td>11</td>\n",
       "      <td>2</td>\n",
       "    </tr>\n",
       "    <tr>\n",
       "      <th>307</th>\n",
       "      <td>2020-11-26</td>\n",
       "      <td>204.0</td>\n",
       "      <td>11-26</td>\n",
       "      <td>8316.0</td>\n",
       "      <td>11</td>\n",
       "      <td>3</td>\n",
       "    </tr>\n",
       "    <tr>\n",
       "      <th>308</th>\n",
       "      <td>2020-11-27</td>\n",
       "      <td>178.0</td>\n",
       "      <td>11-27</td>\n",
       "      <td>8494.0</td>\n",
       "      <td>11</td>\n",
       "      <td>4</td>\n",
       "    </tr>\n",
       "    <tr>\n",
       "      <th>309</th>\n",
       "      <td>2020-11-28</td>\n",
       "      <td>158.0</td>\n",
       "      <td>11-28</td>\n",
       "      <td>8652.0</td>\n",
       "      <td>11</td>\n",
       "      <td>5</td>\n",
       "    </tr>\n",
       "  </tbody>\n",
       "</table>\n",
       "<p>310 rows × 6 columns</p>\n",
       "</div>"
      ],
      "text/plain": [
       "          확진일자    확진수     일자    누적확진   월  요일\n",
       "0   2020-01-24    1.0  01-24     1.0   1   4\n",
       "1   2020-01-25    0.0  01-25     1.0   1   5\n",
       "2   2020-01-26    0.0  01-26     1.0   1   6\n",
       "3   2020-01-27    0.0  01-27     1.0   1   0\n",
       "4   2020-01-28    0.0  01-28     1.0   1   1\n",
       "..         ...    ...    ...     ...  ..  ..\n",
       "305 2020-11-24  142.0  11-24  7900.0  11   1\n",
       "306 2020-11-25  212.0  11-25  8112.0  11   2\n",
       "307 2020-11-26  204.0  11-26  8316.0  11   3\n",
       "308 2020-11-27  178.0  11-27  8494.0  11   4\n",
       "309 2020-11-28  158.0  11-28  8652.0  11   5\n",
       "\n",
       "[310 rows x 6 columns]"
      ]
     },
     "execution_count": 49,
     "metadata": {},
     "output_type": "execute_result"
    }
   ],
   "source": [
    "# cum_day\n",
    "# all_day\n",
    "df_all_day = all_day.reset_index()\n",
    "df_all_day[\"월\"] = df_all_day[\"확진일자\"].dt.month\n",
    "df_all_day[\"요일\"] = df_all_day[\"확진일자\"].dt.dayofweek\n",
    "df_all_day"
   ]
  },
  {
   "cell_type": "code",
   "execution_count": 50,
   "metadata": {},
   "outputs": [
    {
     "data": {
      "text/plain": [
       "월   요일\n",
       "1   0       0.0\n",
       "    1       0.0\n",
       "    2       0.0\n",
       "    3       3.0\n",
       "    4       4.0\n",
       "          ...  \n",
       "11  2     422.0\n",
       "    3     450.0\n",
       "    4     440.0\n",
       "    5     418.0\n",
       "    6     263.0\n",
       "Name: 확진수, Length: 77, dtype: float64"
      ]
     },
     "execution_count": 50,
     "metadata": {},
     "output_type": "execute_result"
    }
   ],
   "source": [
    "df_all_day.groupby([\"월\", \"요일\"])[\"확진수\"].sum()"
   ]
  },
  {
   "cell_type": "markdown",
   "metadata": {},
   "source": [
    "### 요일별 확진 수 "
   ]
  },
  {
   "cell_type": "code",
   "execution_count": 51,
   "metadata": {},
   "outputs": [
    {
     "data": {
      "text/html": [
       "<div>\n",
       "<style scoped>\n",
       "    .dataframe tbody tr th:only-of-type {\n",
       "        vertical-align: middle;\n",
       "    }\n",
       "\n",
       "    .dataframe tbody tr th {\n",
       "        vertical-align: top;\n",
       "    }\n",
       "\n",
       "    .dataframe thead th {\n",
       "        text-align: right;\n",
       "    }\n",
       "</style>\n",
       "<table border=\"1\" class=\"dataframe\">\n",
       "  <thead>\n",
       "    <tr style=\"text-align: right;\">\n",
       "      <th>요일</th>\n",
       "      <th>0</th>\n",
       "      <th>1</th>\n",
       "      <th>2</th>\n",
       "      <th>3</th>\n",
       "      <th>4</th>\n",
       "      <th>5</th>\n",
       "      <th>6</th>\n",
       "    </tr>\n",
       "    <tr>\n",
       "      <th>월</th>\n",
       "      <th></th>\n",
       "      <th></th>\n",
       "      <th></th>\n",
       "      <th></th>\n",
       "      <th></th>\n",
       "      <th></th>\n",
       "      <th></th>\n",
       "    </tr>\n",
       "  </thead>\n",
       "  <tbody>\n",
       "    <tr>\n",
       "      <th>1</th>\n",
       "      <td>0.0</td>\n",
       "      <td>0.0</td>\n",
       "      <td>0.0</td>\n",
       "      <td>3.0</td>\n",
       "      <td>4.0</td>\n",
       "      <td>0.0</td>\n",
       "      <td>0.0</td>\n",
       "    </tr>\n",
       "    <tr>\n",
       "      <th>2</th>\n",
       "      <td>4.0</td>\n",
       "      <td>16.0</td>\n",
       "      <td>14.0</td>\n",
       "      <td>19.0</td>\n",
       "      <td>11.0</td>\n",
       "      <td>9.0</td>\n",
       "      <td>7.0</td>\n",
       "    </tr>\n",
       "    <tr>\n",
       "      <th>3</th>\n",
       "      <td>69.0</td>\n",
       "      <td>89.0</td>\n",
       "      <td>46.0</td>\n",
       "      <td>44.0</td>\n",
       "      <td>48.0</td>\n",
       "      <td>45.0</td>\n",
       "      <td>50.0</td>\n",
       "    </tr>\n",
       "    <tr>\n",
       "      <th>4</th>\n",
       "      <td>16.0</td>\n",
       "      <td>17.0</td>\n",
       "      <td>28.0</td>\n",
       "      <td>27.0</td>\n",
       "      <td>26.0</td>\n",
       "      <td>22.0</td>\n",
       "      <td>20.0</td>\n",
       "    </tr>\n",
       "    <tr>\n",
       "      <th>5</th>\n",
       "      <td>27.0</td>\n",
       "      <td>36.0</td>\n",
       "      <td>34.0</td>\n",
       "      <td>34.0</td>\n",
       "      <td>32.0</td>\n",
       "      <td>36.0</td>\n",
       "      <td>29.0</td>\n",
       "    </tr>\n",
       "    <tr>\n",
       "      <th>6</th>\n",
       "      <td>55.0</td>\n",
       "      <td>67.0</td>\n",
       "      <td>66.0</td>\n",
       "      <td>75.0</td>\n",
       "      <td>90.0</td>\n",
       "      <td>70.0</td>\n",
       "      <td>37.0</td>\n",
       "    </tr>\n",
       "    <tr>\n",
       "      <th>7</th>\n",
       "      <td>37.0</td>\n",
       "      <td>42.0</td>\n",
       "      <td>42.0</td>\n",
       "      <td>58.0</td>\n",
       "      <td>34.0</td>\n",
       "      <td>40.0</td>\n",
       "      <td>28.0</td>\n",
       "    </tr>\n",
       "    <tr>\n",
       "      <th>8</th>\n",
       "      <td>387.0</td>\n",
       "      <td>289.0</td>\n",
       "      <td>327.0</td>\n",
       "      <td>328.0</td>\n",
       "      <td>336.0</td>\n",
       "      <td>473.0</td>\n",
       "      <td>277.0</td>\n",
       "    </tr>\n",
       "    <tr>\n",
       "      <th>9</th>\n",
       "      <td>177.0</td>\n",
       "      <td>242.0</td>\n",
       "      <td>228.0</td>\n",
       "      <td>207.0</td>\n",
       "      <td>169.0</td>\n",
       "      <td>155.0</td>\n",
       "      <td>126.0</td>\n",
       "    </tr>\n",
       "    <tr>\n",
       "      <th>10</th>\n",
       "      <td>72.0</td>\n",
       "      <td>97.0</td>\n",
       "      <td>94.0</td>\n",
       "      <td>123.0</td>\n",
       "      <td>137.0</td>\n",
       "      <td>122.0</td>\n",
       "      <td>88.0</td>\n",
       "    </tr>\n",
       "    <tr>\n",
       "      <th>11</th>\n",
       "      <td>280.0</td>\n",
       "      <td>322.0</td>\n",
       "      <td>422.0</td>\n",
       "      <td>450.0</td>\n",
       "      <td>440.0</td>\n",
       "      <td>418.0</td>\n",
       "      <td>263.0</td>\n",
       "    </tr>\n",
       "  </tbody>\n",
       "</table>\n",
       "</div>"
      ],
      "text/plain": [
       "요일      0      1      2      3      4      5      6\n",
       "월                                                  \n",
       "1     0.0    0.0    0.0    3.0    4.0    0.0    0.0\n",
       "2     4.0   16.0   14.0   19.0   11.0    9.0    7.0\n",
       "3    69.0   89.0   46.0   44.0   48.0   45.0   50.0\n",
       "4    16.0   17.0   28.0   27.0   26.0   22.0   20.0\n",
       "5    27.0   36.0   34.0   34.0   32.0   36.0   29.0\n",
       "6    55.0   67.0   66.0   75.0   90.0   70.0   37.0\n",
       "7    37.0   42.0   42.0   58.0   34.0   40.0   28.0\n",
       "8   387.0  289.0  327.0  328.0  336.0  473.0  277.0\n",
       "9   177.0  242.0  228.0  207.0  169.0  155.0  126.0\n",
       "10   72.0   97.0   94.0  123.0  137.0  122.0   88.0\n",
       "11  280.0  322.0  422.0  450.0  440.0  418.0  263.0"
      ]
     },
     "execution_count": 51,
     "metadata": {},
     "output_type": "execute_result"
    }
   ],
   "source": [
    "# 월별, 요일별 확진수를 groupby로 구하기\n",
    "# 0은 월요일, 6은 일요일\n",
    "# 피벗테이블로 할수 있는건 groupby로도 다 할 수 있고, 연산은 groupby로 더 다양하게 할 수 있다.\n",
    "all_day_week = df_all_day.groupby([\"월\", \"요일\"])[\"확진수\"].sum().unstack()\n",
    "all_day_week"
   ]
  },
  {
   "cell_type": "code",
   "execution_count": 52,
   "metadata": {},
   "outputs": [
    {
     "data": {
      "text/plain": [
       "['월', '화', '수', '목', '금', '토', '일']"
      ]
     },
     "execution_count": 52,
     "metadata": {},
     "output_type": "execute_result"
    }
   ],
   "source": [
    "# 숫자로 표현된 요일을 문자로 바꿔주기 위해 split 을 통해 문자를 리스트로 변경합니다.\n",
    "dayofweek = \"월 화 수 목 금 토 일\"\n",
    "dayofweek = dayofweek.split()\n",
    "dayofweek"
   ]
  },
  {
   "cell_type": "code",
   "execution_count": 53,
   "metadata": {},
   "outputs": [],
   "source": [
    "# 컬럼의 이름을 한글요일명으로 변경해 줍니다.\n",
    "all_day_week.columns = dayofweek"
   ]
  },
  {
   "cell_type": "code",
   "execution_count": 54,
   "metadata": {},
   "outputs": [
    {
     "data": {
      "text/html": [
       "<style  type=\"text/css\" >\n",
       "#T_0f80be1d_6946_11eb_b887_e729fb58ed88row0_col0,#T_0f80be1d_6946_11eb_b887_e729fb58ed88row0_col1,#T_0f80be1d_6946_11eb_b887_e729fb58ed88row0_col3,#T_0f80be1d_6946_11eb_b887_e729fb58ed88row0_col4,#T_0f80be1d_6946_11eb_b887_e729fb58ed88row0_col9,#T_0f80be1d_6946_11eb_b887_e729fb58ed88row1_col0,#T_0f80be1d_6946_11eb_b887_e729fb58ed88row2_col0,#T_0f80be1d_6946_11eb_b887_e729fb58ed88row3_col2,#T_0f80be1d_6946_11eb_b887_e729fb58ed88row5_col0,#T_0f80be1d_6946_11eb_b887_e729fb58ed88row6_col0,#T_0f80be1d_6946_11eb_b887_e729fb58ed88row6_col5,#T_0f80be1d_6946_11eb_b887_e729fb58ed88row6_col6,#T_0f80be1d_6946_11eb_b887_e729fb58ed88row6_col7,#T_0f80be1d_6946_11eb_b887_e729fb58ed88row6_col8,#T_0f80be1d_6946_11eb_b887_e729fb58ed88row6_col10{\n",
       "            background-color:  #fcfbfd;\n",
       "            color:  #000000;\n",
       "        }#T_0f80be1d_6946_11eb_b887_e729fb58ed88row0_col2,#T_0f80be1d_6946_11eb_b887_e729fb58ed88row4_col4{\n",
       "            background-color:  #908dc2;\n",
       "            color:  #000000;\n",
       "        }#T_0f80be1d_6946_11eb_b887_e729fb58ed88row0_col5,#T_0f80be1d_6946_11eb_b887_e729fb58ed88row2_col9{\n",
       "            background-color:  #c5c6e1;\n",
       "            color:  #000000;\n",
       "        }#T_0f80be1d_6946_11eb_b887_e729fb58ed88row0_col6{\n",
       "            background-color:  #cecfe5;\n",
       "            color:  #000000;\n",
       "        }#T_0f80be1d_6946_11eb_b887_e729fb58ed88row0_col7{\n",
       "            background-color:  #8f8cc1;\n",
       "            color:  #000000;\n",
       "        }#T_0f80be1d_6946_11eb_b887_e729fb58ed88row0_col8{\n",
       "            background-color:  #adabd2;\n",
       "            color:  #000000;\n",
       "        }#T_0f80be1d_6946_11eb_b887_e729fb58ed88row0_col10,#T_0f80be1d_6946_11eb_b887_e729fb58ed88row4_col2{\n",
       "            background-color:  #f3f1f7;\n",
       "            color:  #000000;\n",
       "        }#T_0f80be1d_6946_11eb_b887_e729fb58ed88row1_col1{\n",
       "            background-color:  #61409b;\n",
       "            color:  #f1f1f1;\n",
       "        }#T_0f80be1d_6946_11eb_b887_e729fb58ed88row1_col2,#T_0f80be1d_6946_11eb_b887_e729fb58ed88row1_col4,#T_0f80be1d_6946_11eb_b887_e729fb58ed88row1_col8,#T_0f80be1d_6946_11eb_b887_e729fb58ed88row2_col3,#T_0f80be1d_6946_11eb_b887_e729fb58ed88row3_col1,#T_0f80be1d_6946_11eb_b887_e729fb58ed88row3_col6,#T_0f80be1d_6946_11eb_b887_e729fb58ed88row3_col10,#T_0f80be1d_6946_11eb_b887_e729fb58ed88row4_col0,#T_0f80be1d_6946_11eb_b887_e729fb58ed88row4_col5,#T_0f80be1d_6946_11eb_b887_e729fb58ed88row4_col9,#T_0f80be1d_6946_11eb_b887_e729fb58ed88row5_col4,#T_0f80be1d_6946_11eb_b887_e729fb58ed88row5_col7{\n",
       "            background-color:  #3f007d;\n",
       "            color:  #f1f1f1;\n",
       "        }#T_0f80be1d_6946_11eb_b887_e729fb58ed88row1_col3{\n",
       "            background-color:  #f3f2f8;\n",
       "            color:  #000000;\n",
       "        }#T_0f80be1d_6946_11eb_b887_e729fb58ed88row1_col5{\n",
       "            background-color:  #8e8bc1;\n",
       "            color:  #000000;\n",
       "        }#T_0f80be1d_6946_11eb_b887_e729fb58ed88row1_col6,#T_0f80be1d_6946_11eb_b887_e729fb58ed88row2_col6,#T_0f80be1d_6946_11eb_b887_e729fb58ed88row4_col1{\n",
       "            background-color:  #a6a3cd;\n",
       "            color:  #000000;\n",
       "        }#T_0f80be1d_6946_11eb_b887_e729fb58ed88row1_col7{\n",
       "            background-color:  #f6f4f9;\n",
       "            color:  #000000;\n",
       "        }#T_0f80be1d_6946_11eb_b887_e729fb58ed88row1_col9{\n",
       "            background-color:  #babadb;\n",
       "            color:  #000000;\n",
       "        }#T_0f80be1d_6946_11eb_b887_e729fb58ed88row1_col10{\n",
       "            background-color:  #cbcbe3;\n",
       "            color:  #000000;\n",
       "        }#T_0f80be1d_6946_11eb_b887_e729fb58ed88row2_col1{\n",
       "            background-color:  #796eb2;\n",
       "            color:  #000000;\n",
       "        }#T_0f80be1d_6946_11eb_b887_e729fb58ed88row2_col2{\n",
       "            background-color:  #f8f6fa;\n",
       "            color:  #000000;\n",
       "        }#T_0f80be1d_6946_11eb_b887_e729fb58ed88row2_col4,#T_0f80be1d_6946_11eb_b887_e729fb58ed88row3_col4{\n",
       "            background-color:  #65479e;\n",
       "            color:  #f1f1f1;\n",
       "        }#T_0f80be1d_6946_11eb_b887_e729fb58ed88row2_col5{\n",
       "            background-color:  #928fc3;\n",
       "            color:  #000000;\n",
       "        }#T_0f80be1d_6946_11eb_b887_e729fb58ed88row2_col7{\n",
       "            background-color:  #d9d9ea;\n",
       "            color:  #000000;\n",
       "        }#T_0f80be1d_6946_11eb_b887_e729fb58ed88row2_col8{\n",
       "            background-color:  #53258e;\n",
       "            color:  #f1f1f1;\n",
       "        }#T_0f80be1d_6946_11eb_b887_e729fb58ed88row2_col10{\n",
       "            background-color:  #582f93;\n",
       "            color:  #f1f1f1;\n",
       "        }#T_0f80be1d_6946_11eb_b887_e729fb58ed88row3_col0{\n",
       "            background-color:  #6950a3;\n",
       "            color:  #f1f1f1;\n",
       "        }#T_0f80be1d_6946_11eb_b887_e729fb58ed88row3_col3{\n",
       "            background-color:  #4d1a89;\n",
       "            color:  #f1f1f1;\n",
       "        }#T_0f80be1d_6946_11eb_b887_e729fb58ed88row3_col5{\n",
       "            background-color:  #705ca9;\n",
       "            color:  #f1f1f1;\n",
       "        }#T_0f80be1d_6946_11eb_b887_e729fb58ed88row3_col7{\n",
       "            background-color:  #d8d8ea;\n",
       "            color:  #000000;\n",
       "        }#T_0f80be1d_6946_11eb_b887_e729fb58ed88row3_col8{\n",
       "            background-color:  #7363ad;\n",
       "            color:  #000000;\n",
       "        }#T_0f80be1d_6946_11eb_b887_e729fb58ed88row3_col9{\n",
       "            background-color:  #64459e;\n",
       "            color:  #f1f1f1;\n",
       "        }#T_0f80be1d_6946_11eb_b887_e729fb58ed88row4_col3{\n",
       "            background-color:  #5b3495;\n",
       "            color:  #f1f1f1;\n",
       "        }#T_0f80be1d_6946_11eb_b887_e729fb58ed88row4_col6,#T_0f80be1d_6946_11eb_b887_e729fb58ed88row6_col1{\n",
       "            background-color:  #e2e2ef;\n",
       "            color:  #000000;\n",
       "        }#T_0f80be1d_6946_11eb_b887_e729fb58ed88row4_col7{\n",
       "            background-color:  #cecee5;\n",
       "            color:  #000000;\n",
       "        }#T_0f80be1d_6946_11eb_b887_e729fb58ed88row4_col8{\n",
       "            background-color:  #bebedd;\n",
       "            color:  #000000;\n",
       "        }#T_0f80be1d_6946_11eb_b887_e729fb58ed88row4_col10{\n",
       "            background-color:  #481084;\n",
       "            color:  #f1f1f1;\n",
       "        }#T_0f80be1d_6946_11eb_b887_e729fb58ed88row5_col1,#T_0f80be1d_6946_11eb_b887_e729fb58ed88row6_col3{\n",
       "            background-color:  #c6c7e1;\n",
       "            color:  #000000;\n",
       "        }#T_0f80be1d_6946_11eb_b887_e729fb58ed88row5_col2{\n",
       "            background-color:  #faf9fc;\n",
       "            color:  #000000;\n",
       "        }#T_0f80be1d_6946_11eb_b887_e729fb58ed88row5_col3{\n",
       "            background-color:  #9e9ac8;\n",
       "            color:  #000000;\n",
       "        }#T_0f80be1d_6946_11eb_b887_e729fb58ed88row5_col5{\n",
       "            background-color:  #807dba;\n",
       "            color:  #000000;\n",
       "        }#T_0f80be1d_6946_11eb_b887_e729fb58ed88row5_col6{\n",
       "            background-color:  #b6b6d8;\n",
       "            color:  #000000;\n",
       "        }#T_0f80be1d_6946_11eb_b887_e729fb58ed88row5_col8,#T_0f80be1d_6946_11eb_b887_e729fb58ed88row6_col9{\n",
       "            background-color:  #dadaeb;\n",
       "            color:  #000000;\n",
       "        }#T_0f80be1d_6946_11eb_b887_e729fb58ed88row5_col9{\n",
       "            background-color:  #674ba0;\n",
       "            color:  #f1f1f1;\n",
       "        }#T_0f80be1d_6946_11eb_b887_e729fb58ed88row5_col10{\n",
       "            background-color:  #5c3696;\n",
       "            color:  #f1f1f1;\n",
       "        }#T_0f80be1d_6946_11eb_b887_e729fb58ed88row6_col2{\n",
       "            background-color:  #eeecf4;\n",
       "            color:  #000000;\n",
       "        }#T_0f80be1d_6946_11eb_b887_e729fb58ed88row6_col4{\n",
       "            background-color:  #dfdfed;\n",
       "            color:  #000000;\n",
       "        }</style><table id=\"T_0f80be1d_6946_11eb_b887_e729fb58ed88\" ><thead>    <tr>        <th class=\"index_name level0\" >월</th>        <th class=\"col_heading level0 col0\" >1</th>        <th class=\"col_heading level0 col1\" >2</th>        <th class=\"col_heading level0 col2\" >3</th>        <th class=\"col_heading level0 col3\" >4</th>        <th class=\"col_heading level0 col4\" >5</th>        <th class=\"col_heading level0 col5\" >6</th>        <th class=\"col_heading level0 col6\" >7</th>        <th class=\"col_heading level0 col7\" >8</th>        <th class=\"col_heading level0 col8\" >9</th>        <th class=\"col_heading level0 col9\" >10</th>        <th class=\"col_heading level0 col10\" >11</th>    </tr></thead><tbody>\n",
       "                <tr>\n",
       "                        <th id=\"T_0f80be1d_6946_11eb_b887_e729fb58ed88level0_row0\" class=\"row_heading level0 row0\" >월</th>\n",
       "                        <td id=\"T_0f80be1d_6946_11eb_b887_e729fb58ed88row0_col0\" class=\"data row0 col0\" >0</td>\n",
       "                        <td id=\"T_0f80be1d_6946_11eb_b887_e729fb58ed88row0_col1\" class=\"data row0 col1\" >4</td>\n",
       "                        <td id=\"T_0f80be1d_6946_11eb_b887_e729fb58ed88row0_col2\" class=\"data row0 col2\" >69</td>\n",
       "                        <td id=\"T_0f80be1d_6946_11eb_b887_e729fb58ed88row0_col3\" class=\"data row0 col3\" >16</td>\n",
       "                        <td id=\"T_0f80be1d_6946_11eb_b887_e729fb58ed88row0_col4\" class=\"data row0 col4\" >27</td>\n",
       "                        <td id=\"T_0f80be1d_6946_11eb_b887_e729fb58ed88row0_col5\" class=\"data row0 col5\" >55</td>\n",
       "                        <td id=\"T_0f80be1d_6946_11eb_b887_e729fb58ed88row0_col6\" class=\"data row0 col6\" >37</td>\n",
       "                        <td id=\"T_0f80be1d_6946_11eb_b887_e729fb58ed88row0_col7\" class=\"data row0 col7\" >387</td>\n",
       "                        <td id=\"T_0f80be1d_6946_11eb_b887_e729fb58ed88row0_col8\" class=\"data row0 col8\" >177</td>\n",
       "                        <td id=\"T_0f80be1d_6946_11eb_b887_e729fb58ed88row0_col9\" class=\"data row0 col9\" >72</td>\n",
       "                        <td id=\"T_0f80be1d_6946_11eb_b887_e729fb58ed88row0_col10\" class=\"data row0 col10\" >280</td>\n",
       "            </tr>\n",
       "            <tr>\n",
       "                        <th id=\"T_0f80be1d_6946_11eb_b887_e729fb58ed88level0_row1\" class=\"row_heading level0 row1\" >화</th>\n",
       "                        <td id=\"T_0f80be1d_6946_11eb_b887_e729fb58ed88row1_col0\" class=\"data row1 col0\" >0</td>\n",
       "                        <td id=\"T_0f80be1d_6946_11eb_b887_e729fb58ed88row1_col1\" class=\"data row1 col1\" >16</td>\n",
       "                        <td id=\"T_0f80be1d_6946_11eb_b887_e729fb58ed88row1_col2\" class=\"data row1 col2\" >89</td>\n",
       "                        <td id=\"T_0f80be1d_6946_11eb_b887_e729fb58ed88row1_col3\" class=\"data row1 col3\" >17</td>\n",
       "                        <td id=\"T_0f80be1d_6946_11eb_b887_e729fb58ed88row1_col4\" class=\"data row1 col4\" >36</td>\n",
       "                        <td id=\"T_0f80be1d_6946_11eb_b887_e729fb58ed88row1_col5\" class=\"data row1 col5\" >67</td>\n",
       "                        <td id=\"T_0f80be1d_6946_11eb_b887_e729fb58ed88row1_col6\" class=\"data row1 col6\" >42</td>\n",
       "                        <td id=\"T_0f80be1d_6946_11eb_b887_e729fb58ed88row1_col7\" class=\"data row1 col7\" >289</td>\n",
       "                        <td id=\"T_0f80be1d_6946_11eb_b887_e729fb58ed88row1_col8\" class=\"data row1 col8\" >242</td>\n",
       "                        <td id=\"T_0f80be1d_6946_11eb_b887_e729fb58ed88row1_col9\" class=\"data row1 col9\" >97</td>\n",
       "                        <td id=\"T_0f80be1d_6946_11eb_b887_e729fb58ed88row1_col10\" class=\"data row1 col10\" >322</td>\n",
       "            </tr>\n",
       "            <tr>\n",
       "                        <th id=\"T_0f80be1d_6946_11eb_b887_e729fb58ed88level0_row2\" class=\"row_heading level0 row2\" >수</th>\n",
       "                        <td id=\"T_0f80be1d_6946_11eb_b887_e729fb58ed88row2_col0\" class=\"data row2 col0\" >0</td>\n",
       "                        <td id=\"T_0f80be1d_6946_11eb_b887_e729fb58ed88row2_col1\" class=\"data row2 col1\" >14</td>\n",
       "                        <td id=\"T_0f80be1d_6946_11eb_b887_e729fb58ed88row2_col2\" class=\"data row2 col2\" >46</td>\n",
       "                        <td id=\"T_0f80be1d_6946_11eb_b887_e729fb58ed88row2_col3\" class=\"data row2 col3\" >28</td>\n",
       "                        <td id=\"T_0f80be1d_6946_11eb_b887_e729fb58ed88row2_col4\" class=\"data row2 col4\" >34</td>\n",
       "                        <td id=\"T_0f80be1d_6946_11eb_b887_e729fb58ed88row2_col5\" class=\"data row2 col5\" >66</td>\n",
       "                        <td id=\"T_0f80be1d_6946_11eb_b887_e729fb58ed88row2_col6\" class=\"data row2 col6\" >42</td>\n",
       "                        <td id=\"T_0f80be1d_6946_11eb_b887_e729fb58ed88row2_col7\" class=\"data row2 col7\" >327</td>\n",
       "                        <td id=\"T_0f80be1d_6946_11eb_b887_e729fb58ed88row2_col8\" class=\"data row2 col8\" >228</td>\n",
       "                        <td id=\"T_0f80be1d_6946_11eb_b887_e729fb58ed88row2_col9\" class=\"data row2 col9\" >94</td>\n",
       "                        <td id=\"T_0f80be1d_6946_11eb_b887_e729fb58ed88row2_col10\" class=\"data row2 col10\" >422</td>\n",
       "            </tr>\n",
       "            <tr>\n",
       "                        <th id=\"T_0f80be1d_6946_11eb_b887_e729fb58ed88level0_row3\" class=\"row_heading level0 row3\" >목</th>\n",
       "                        <td id=\"T_0f80be1d_6946_11eb_b887_e729fb58ed88row3_col0\" class=\"data row3 col0\" >3</td>\n",
       "                        <td id=\"T_0f80be1d_6946_11eb_b887_e729fb58ed88row3_col1\" class=\"data row3 col1\" >19</td>\n",
       "                        <td id=\"T_0f80be1d_6946_11eb_b887_e729fb58ed88row3_col2\" class=\"data row3 col2\" >44</td>\n",
       "                        <td id=\"T_0f80be1d_6946_11eb_b887_e729fb58ed88row3_col3\" class=\"data row3 col3\" >27</td>\n",
       "                        <td id=\"T_0f80be1d_6946_11eb_b887_e729fb58ed88row3_col4\" class=\"data row3 col4\" >34</td>\n",
       "                        <td id=\"T_0f80be1d_6946_11eb_b887_e729fb58ed88row3_col5\" class=\"data row3 col5\" >75</td>\n",
       "                        <td id=\"T_0f80be1d_6946_11eb_b887_e729fb58ed88row3_col6\" class=\"data row3 col6\" >58</td>\n",
       "                        <td id=\"T_0f80be1d_6946_11eb_b887_e729fb58ed88row3_col7\" class=\"data row3 col7\" >328</td>\n",
       "                        <td id=\"T_0f80be1d_6946_11eb_b887_e729fb58ed88row3_col8\" class=\"data row3 col8\" >207</td>\n",
       "                        <td id=\"T_0f80be1d_6946_11eb_b887_e729fb58ed88row3_col9\" class=\"data row3 col9\" >123</td>\n",
       "                        <td id=\"T_0f80be1d_6946_11eb_b887_e729fb58ed88row3_col10\" class=\"data row3 col10\" >450</td>\n",
       "            </tr>\n",
       "            <tr>\n",
       "                        <th id=\"T_0f80be1d_6946_11eb_b887_e729fb58ed88level0_row4\" class=\"row_heading level0 row4\" >금</th>\n",
       "                        <td id=\"T_0f80be1d_6946_11eb_b887_e729fb58ed88row4_col0\" class=\"data row4 col0\" >4</td>\n",
       "                        <td id=\"T_0f80be1d_6946_11eb_b887_e729fb58ed88row4_col1\" class=\"data row4 col1\" >11</td>\n",
       "                        <td id=\"T_0f80be1d_6946_11eb_b887_e729fb58ed88row4_col2\" class=\"data row4 col2\" >48</td>\n",
       "                        <td id=\"T_0f80be1d_6946_11eb_b887_e729fb58ed88row4_col3\" class=\"data row4 col3\" >26</td>\n",
       "                        <td id=\"T_0f80be1d_6946_11eb_b887_e729fb58ed88row4_col4\" class=\"data row4 col4\" >32</td>\n",
       "                        <td id=\"T_0f80be1d_6946_11eb_b887_e729fb58ed88row4_col5\" class=\"data row4 col5\" >90</td>\n",
       "                        <td id=\"T_0f80be1d_6946_11eb_b887_e729fb58ed88row4_col6\" class=\"data row4 col6\" >34</td>\n",
       "                        <td id=\"T_0f80be1d_6946_11eb_b887_e729fb58ed88row4_col7\" class=\"data row4 col7\" >336</td>\n",
       "                        <td id=\"T_0f80be1d_6946_11eb_b887_e729fb58ed88row4_col8\" class=\"data row4 col8\" >169</td>\n",
       "                        <td id=\"T_0f80be1d_6946_11eb_b887_e729fb58ed88row4_col9\" class=\"data row4 col9\" >137</td>\n",
       "                        <td id=\"T_0f80be1d_6946_11eb_b887_e729fb58ed88row4_col10\" class=\"data row4 col10\" >440</td>\n",
       "            </tr>\n",
       "            <tr>\n",
       "                        <th id=\"T_0f80be1d_6946_11eb_b887_e729fb58ed88level0_row5\" class=\"row_heading level0 row5\" >토</th>\n",
       "                        <td id=\"T_0f80be1d_6946_11eb_b887_e729fb58ed88row5_col0\" class=\"data row5 col0\" >0</td>\n",
       "                        <td id=\"T_0f80be1d_6946_11eb_b887_e729fb58ed88row5_col1\" class=\"data row5 col1\" >9</td>\n",
       "                        <td id=\"T_0f80be1d_6946_11eb_b887_e729fb58ed88row5_col2\" class=\"data row5 col2\" >45</td>\n",
       "                        <td id=\"T_0f80be1d_6946_11eb_b887_e729fb58ed88row5_col3\" class=\"data row5 col3\" >22</td>\n",
       "                        <td id=\"T_0f80be1d_6946_11eb_b887_e729fb58ed88row5_col4\" class=\"data row5 col4\" >36</td>\n",
       "                        <td id=\"T_0f80be1d_6946_11eb_b887_e729fb58ed88row5_col5\" class=\"data row5 col5\" >70</td>\n",
       "                        <td id=\"T_0f80be1d_6946_11eb_b887_e729fb58ed88row5_col6\" class=\"data row5 col6\" >40</td>\n",
       "                        <td id=\"T_0f80be1d_6946_11eb_b887_e729fb58ed88row5_col7\" class=\"data row5 col7\" >473</td>\n",
       "                        <td id=\"T_0f80be1d_6946_11eb_b887_e729fb58ed88row5_col8\" class=\"data row5 col8\" >155</td>\n",
       "                        <td id=\"T_0f80be1d_6946_11eb_b887_e729fb58ed88row5_col9\" class=\"data row5 col9\" >122</td>\n",
       "                        <td id=\"T_0f80be1d_6946_11eb_b887_e729fb58ed88row5_col10\" class=\"data row5 col10\" >418</td>\n",
       "            </tr>\n",
       "            <tr>\n",
       "                        <th id=\"T_0f80be1d_6946_11eb_b887_e729fb58ed88level0_row6\" class=\"row_heading level0 row6\" >일</th>\n",
       "                        <td id=\"T_0f80be1d_6946_11eb_b887_e729fb58ed88row6_col0\" class=\"data row6 col0\" >0</td>\n",
       "                        <td id=\"T_0f80be1d_6946_11eb_b887_e729fb58ed88row6_col1\" class=\"data row6 col1\" >7</td>\n",
       "                        <td id=\"T_0f80be1d_6946_11eb_b887_e729fb58ed88row6_col2\" class=\"data row6 col2\" >50</td>\n",
       "                        <td id=\"T_0f80be1d_6946_11eb_b887_e729fb58ed88row6_col3\" class=\"data row6 col3\" >20</td>\n",
       "                        <td id=\"T_0f80be1d_6946_11eb_b887_e729fb58ed88row6_col4\" class=\"data row6 col4\" >29</td>\n",
       "                        <td id=\"T_0f80be1d_6946_11eb_b887_e729fb58ed88row6_col5\" class=\"data row6 col5\" >37</td>\n",
       "                        <td id=\"T_0f80be1d_6946_11eb_b887_e729fb58ed88row6_col6\" class=\"data row6 col6\" >28</td>\n",
       "                        <td id=\"T_0f80be1d_6946_11eb_b887_e729fb58ed88row6_col7\" class=\"data row6 col7\" >277</td>\n",
       "                        <td id=\"T_0f80be1d_6946_11eb_b887_e729fb58ed88row6_col8\" class=\"data row6 col8\" >126</td>\n",
       "                        <td id=\"T_0f80be1d_6946_11eb_b887_e729fb58ed88row6_col9\" class=\"data row6 col9\" >88</td>\n",
       "                        <td id=\"T_0f80be1d_6946_11eb_b887_e729fb58ed88row6_col10\" class=\"data row6 col10\" >263</td>\n",
       "            </tr>\n",
       "    </tbody></table>"
      ],
      "text/plain": [
       "<pandas.io.formats.style.Styler at 0x1985a95c670>"
      ]
     },
     "execution_count": 54,
     "metadata": {},
     "output_type": "execute_result"
    }
   ],
   "source": [
    "# style.background_gradient 로 색상을 표현합니다.\n",
    "# background_gradient(시리즈별로 높은 숫자 색으로 표시)보다 heatmap(전체 데이터에 대해서) 사용을 권장\n",
    "# matplotlib cmap으로 검색하면 sequential, diverging, cyclic... 등 컬러맵 옵션 볼 수 있음\n",
    "all_day_week.astype(int).T.style.background_gradient(cmap = \"Purples\")"
   ]
  },
  {
   "cell_type": "markdown",
   "metadata": {},
   "source": [
    "## 거주지별 확진자"
   ]
  },
  {
   "cell_type": "code",
   "execution_count": 55,
   "metadata": {},
   "outputs": [],
   "source": [
    "# 거주지(구별) 확진자의 빈도수를 구하고 시각화 합니다.\n",
    "gu_count = df[\"거주지\"].value_counts()"
   ]
  },
  {
   "cell_type": "code",
   "execution_count": 56,
   "metadata": {},
   "outputs": [
    {
     "data": {
      "text/plain": [
       "<AxesSubplot:title={'center':'구별 확진자 수'}>"
      ]
     },
     "execution_count": 56,
     "metadata": {},
     "output_type": "execute_result"
    },
    {
     "data": {
      "image/png": "[encoded data removed]",
      "text/plain": [
       "<Figure size 720x432 with 1 Axes>"
      ]
     },
     "metadata": {
      "image/png": {
       "height": 373,
       "width": 619
      },
      "needs_background": "light"
     },
     "output_type": "display_data"
    }
   ],
   "source": [
    "# 구별 확진자의 수를 시각화 합니다.\n",
    "gu_count.sort_values().plot.barh(title = \"구별 확진자 수\", figsize = (10, 6), grid = True)"
   ]
  },
  {
   "cell_type": "code",
   "execution_count": 181,
   "metadata": {
    "scrolled": true
   },
   "outputs": [
    {
     "data": {
      "text/plain": [
       "Index(['송파구', '강서구', '관악구', '강남구', '타시도', '노원구', '성북구', '서초구', '동작구', '은평구',\n",
       "       '동대문구', '도봉구', '양천구', '영등포구', '중랑구', '마포구', '강동구', '구로구', '서대문구', '성동구',\n",
       "       '용산구', '강북구', '광진구', '기타', '종로구', '금천구', '중구', '경기도', '종랑구'],\n",
       "      dtype='object')"
      ]
     },
     "execution_count": 181,
     "metadata": {},
     "output_type": "execute_result"
    }
   ],
   "source": [
    "# 서울에서 확진판정을 받은 데이터이기 때문에 거주지가 서울이 아닐 수도 있습니다.\n",
    "# 거주지 별로 서울시에 해당되는 데이터만 따로 가져옵니다.\n",
    "gu"
   ]
  },
  {
   "cell_type": "code",
   "execution_count": 57,
   "metadata": {},
   "outputs": [
    {
     "data": {
      "text/plain": [
       "['송파구',\n",
       " '강서구',\n",
       " '관악구',\n",
       " '강남구',\n",
       " '노원구',\n",
       " '성북구',\n",
       " '서초구',\n",
       " '동작구',\n",
       " '은평구',\n",
       " '도봉구',\n",
       " '동대문구',\n",
       " '양천구',\n",
       " '영등포구',\n",
       " '중랑구',\n",
       " '마포구',\n",
       " '강동구',\n",
       " '구로구',\n",
       " '서대문구',\n",
       " '성동구',\n",
       " '용산구',\n",
       " '강북구',\n",
       " '광진구',\n",
       " '종로구',\n",
       " '금천구',\n",
       " '중구',\n",
       " '종랑구']"
      ]
     },
     "execution_count": 57,
     "metadata": {},
     "output_type": "execute_result"
    }
   ],
   "source": [
    "gu = gu_count.index.tolist()\n",
    "gu.remove(\"경기도\")\n",
    "gu.remove(\"타시도\")\n",
    "gu.remove(\"기타\")\n",
    "gu"
   ]
  },
  {
   "cell_type": "code",
   "execution_count": 58,
   "metadata": {},
   "outputs": [
    {
     "data": {
      "text/plain": [
       "{'경기도', '기타', '타시도'}"
      ]
     },
     "execution_count": 58,
     "metadata": {},
     "output_type": "execute_result"
    }
   ],
   "source": [
    "# 거주지가 서울이 아닌 지역을 따로 추출합니다.\n",
    "# 집합 자료형 set, 집합 연산 가능\n",
    "\n",
    "set(gu_count.index) - set(gu)"
   ]
  },
  {
   "cell_type": "code",
   "execution_count": 59,
   "metadata": {},
   "outputs": [
    {
     "data": {
      "text/html": [
       "<div>\n",
       "<style scoped>\n",
       "    .dataframe tbody tr th:only-of-type {\n",
       "        vertical-align: middle;\n",
       "    }\n",
       "\n",
       "    .dataframe tbody tr th {\n",
       "        vertical-align: top;\n",
       "    }\n",
       "\n",
       "    .dataframe thead th {\n",
       "        text-align: right;\n",
       "    }\n",
       "</style>\n",
       "<table border=\"1\" class=\"dataframe\">\n",
       "  <thead>\n",
       "    <tr style=\"text-align: right;\">\n",
       "      <th></th>\n",
       "      <th>구</th>\n",
       "      <th>거주지</th>\n",
       "    </tr>\n",
       "  </thead>\n",
       "  <tbody>\n",
       "    <tr>\n",
       "      <th>0</th>\n",
       "      <td>송파구</td>\n",
       "      <td>599</td>\n",
       "    </tr>\n",
       "    <tr>\n",
       "      <th>1</th>\n",
       "      <td>강서구</td>\n",
       "      <td>573</td>\n",
       "    </tr>\n",
       "    <tr>\n",
       "      <th>2</th>\n",
       "      <td>관악구</td>\n",
       "      <td>532</td>\n",
       "    </tr>\n",
       "    <tr>\n",
       "      <th>3</th>\n",
       "      <td>강남구</td>\n",
       "      <td>494</td>\n",
       "    </tr>\n",
       "    <tr>\n",
       "      <th>4</th>\n",
       "      <td>타시도</td>\n",
       "      <td>477</td>\n",
       "    </tr>\n",
       "    <tr>\n",
       "      <th>5</th>\n",
       "      <td>노원구</td>\n",
       "      <td>458</td>\n",
       "    </tr>\n",
       "    <tr>\n",
       "      <th>6</th>\n",
       "      <td>성북구</td>\n",
       "      <td>453</td>\n",
       "    </tr>\n",
       "    <tr>\n",
       "      <th>7</th>\n",
       "      <td>서초구</td>\n",
       "      <td>450</td>\n",
       "    </tr>\n",
       "    <tr>\n",
       "      <th>8</th>\n",
       "      <td>동작구</td>\n",
       "      <td>382</td>\n",
       "    </tr>\n",
       "    <tr>\n",
       "      <th>9</th>\n",
       "      <td>은평구</td>\n",
       "      <td>351</td>\n",
       "    </tr>\n",
       "    <tr>\n",
       "      <th>10</th>\n",
       "      <td>도봉구</td>\n",
       "      <td>308</td>\n",
       "    </tr>\n",
       "    <tr>\n",
       "      <th>11</th>\n",
       "      <td>동대문구</td>\n",
       "      <td>308</td>\n",
       "    </tr>\n",
       "    <tr>\n",
       "      <th>12</th>\n",
       "      <td>양천구</td>\n",
       "      <td>295</td>\n",
       "    </tr>\n",
       "    <tr>\n",
       "      <th>13</th>\n",
       "      <td>영등포구</td>\n",
       "      <td>289</td>\n",
       "    </tr>\n",
       "    <tr>\n",
       "      <th>14</th>\n",
       "      <td>중랑구</td>\n",
       "      <td>283</td>\n",
       "    </tr>\n",
       "    <tr>\n",
       "      <th>15</th>\n",
       "      <td>마포구</td>\n",
       "      <td>282</td>\n",
       "    </tr>\n",
       "    <tr>\n",
       "      <th>16</th>\n",
       "      <td>강동구</td>\n",
       "      <td>270</td>\n",
       "    </tr>\n",
       "    <tr>\n",
       "      <th>17</th>\n",
       "      <td>구로구</td>\n",
       "      <td>269</td>\n",
       "    </tr>\n",
       "    <tr>\n",
       "      <th>18</th>\n",
       "      <td>서대문구</td>\n",
       "      <td>251</td>\n",
       "    </tr>\n",
       "    <tr>\n",
       "      <th>19</th>\n",
       "      <td>성동구</td>\n",
       "      <td>220</td>\n",
       "    </tr>\n",
       "    <tr>\n",
       "      <th>20</th>\n",
       "      <td>용산구</td>\n",
       "      <td>219</td>\n",
       "    </tr>\n",
       "    <tr>\n",
       "      <th>21</th>\n",
       "      <td>강북구</td>\n",
       "      <td>188</td>\n",
       "    </tr>\n",
       "    <tr>\n",
       "      <th>22</th>\n",
       "      <td>광진구</td>\n",
       "      <td>178</td>\n",
       "    </tr>\n",
       "    <tr>\n",
       "      <th>23</th>\n",
       "      <td>기타</td>\n",
       "      <td>172</td>\n",
       "    </tr>\n",
       "    <tr>\n",
       "      <th>24</th>\n",
       "      <td>종로구</td>\n",
       "      <td>125</td>\n",
       "    </tr>\n",
       "    <tr>\n",
       "      <th>25</th>\n",
       "      <td>금천구</td>\n",
       "      <td>117</td>\n",
       "    </tr>\n",
       "    <tr>\n",
       "      <th>26</th>\n",
       "      <td>중구</td>\n",
       "      <td>107</td>\n",
       "    </tr>\n",
       "    <tr>\n",
       "      <th>27</th>\n",
       "      <td>경기도</td>\n",
       "      <td>1</td>\n",
       "    </tr>\n",
       "    <tr>\n",
       "      <th>28</th>\n",
       "      <td>종랑구</td>\n",
       "      <td>1</td>\n",
       "    </tr>\n",
       "  </tbody>\n",
       "</table>\n",
       "</div>"
      ],
      "text/plain": [
       "       구  거주지\n",
       "0    송파구  599\n",
       "1    강서구  573\n",
       "2    관악구  532\n",
       "3    강남구  494\n",
       "4    타시도  477\n",
       "5    노원구  458\n",
       "6    성북구  453\n",
       "7    서초구  450\n",
       "8    동작구  382\n",
       "9    은평구  351\n",
       "10   도봉구  308\n",
       "11  동대문구  308\n",
       "12   양천구  295\n",
       "13  영등포구  289\n",
       "14   중랑구  283\n",
       "15   마포구  282\n",
       "16   강동구  270\n",
       "17   구로구  269\n",
       "18  서대문구  251\n",
       "19   성동구  220\n",
       "20   용산구  219\n",
       "21   강북구  188\n",
       "22   광진구  178\n",
       "23    기타  172\n",
       "24   종로구  125\n",
       "25   금천구  117\n",
       "26    중구  107\n",
       "27   경기도    1\n",
       "28   종랑구    1"
      ]
     },
     "execution_count": 59,
     "metadata": {},
     "output_type": "execute_result"
    }
   ],
   "source": [
    "# 구를 전처리 하기 쉽게 컬럼으로 변환하기 위해 reset_index 로 변환합니다.\n",
    "\n",
    "df_gu = gu_count.reset_index()\n",
    "df_gu.columns = [\"구\", \"거주지\"]\n",
    "df_gu"
   ]
  },
  {
   "cell_type": "code",
   "execution_count": 60,
   "metadata": {},
   "outputs": [
    {
     "data": {
      "text/html": [
       "<div>\n",
       "<style scoped>\n",
       "    .dataframe tbody tr th:only-of-type {\n",
       "        vertical-align: middle;\n",
       "    }\n",
       "\n",
       "    .dataframe tbody tr th {\n",
       "        vertical-align: top;\n",
       "    }\n",
       "\n",
       "    .dataframe thead th {\n",
       "        text-align: right;\n",
       "    }\n",
       "</style>\n",
       "<table border=\"1\" class=\"dataframe\">\n",
       "  <thead>\n",
       "    <tr style=\"text-align: right;\">\n",
       "      <th></th>\n",
       "      <th>구</th>\n",
       "      <th>거주지</th>\n",
       "    </tr>\n",
       "  </thead>\n",
       "  <tbody>\n",
       "    <tr>\n",
       "      <th>4</th>\n",
       "      <td>타시도</td>\n",
       "      <td>477</td>\n",
       "    </tr>\n",
       "    <tr>\n",
       "      <th>23</th>\n",
       "      <td>기타</td>\n",
       "      <td>172</td>\n",
       "    </tr>\n",
       "    <tr>\n",
       "      <th>27</th>\n",
       "      <td>경기도</td>\n",
       "      <td>1</td>\n",
       "    </tr>\n",
       "  </tbody>\n",
       "</table>\n",
       "</div>"
      ],
      "text/plain": [
       "      구  거주지\n",
       "4   타시도  477\n",
       "23   기타  172\n",
       "27  경기도    1"
      ]
     },
     "execution_count": 60,
     "metadata": {},
     "output_type": "execute_result"
    }
   ],
   "source": [
    "# isin([찾고자 하는 리스트값])\n",
    "# ~표시는 not을 의미\n",
    "df_gu[~df_gu[\"구\"].isin(gu)]"
   ]
  },
  {
   "cell_type": "code",
   "execution_count": 61,
   "metadata": {},
   "outputs": [],
   "source": [
    "# 서울에서 확진 받은 사람 중 서울 vs 타지역을 비교해 보기 위해\n",
    "# \"지역\"이라는 새로운 컬럼을 만들어 서울지역이 아니라면 \"타지역\" 이라는 값을 넣어줍니다. \n",
    "# .loc[행인덱스]\n",
    "# .loc[행, 열]\n",
    "# .loc[조건, 열]\n",
    "# df.loc[~df[\"거주지\"].isin(gu)]\n",
    "# df.loc[df[\"지역\"].isnull(), \"지역\"] = \"타지역\"\n",
    "df_gu.loc[df_gu[\"구\"] == \"종랑구\", \"구\"] = \"중랑구\"\n",
    "df_gu.loc[df_gu[\"구\"] == \"타시도\", \"구\"] = \"타시도\"\n",
    "df_gu.loc[df_gu[\"구\"] == \"기타\", \"구\"] = \"타시도\"\n",
    "df_gu.loc[df_gu[\"구\"] == \"경기도\", \"구\"] = \"타시도\""
   ]
  },
  {
   "cell_type": "code",
   "execution_count": 62,
   "metadata": {
    "scrolled": true
   },
   "outputs": [],
   "source": [
    "# 위의 방법으로 할수도 있고 아래의 방법으로 만들수도 있습니다.\n",
    "# 함수 혹은 익명함수를 사용하는 방법으로 \"타지역\" 값을 만들 수도 있습니다.\n",
    "df[\"지역\"] = df[\"거주지\"]\n",
    "\n",
    "df.loc[df[\"지역\"] == \"종랑구\", \"지역\"] = \"중랑구\"\n",
    "df.loc[df[\"지역\"] == \"타시도\", \"지역\"] = \"타시도\"\n",
    "df.loc[df[\"지역\"] == \"기타\", \"지역\"] = \"타시도\"\n",
    "df.loc[df[\"지역\"] == \"경기도\", \"지역\"] = \"타시도\""
   ]
  },
  {
   "cell_type": "code",
   "execution_count": 63,
   "metadata": {
    "scrolled": true
   },
   "outputs": [
    {
     "data": {
      "text/plain": [
       "<AxesSubplot:title={'center':'구별 확진자 수'}>"
      ]
     },
     "execution_count": 63,
     "metadata": {},
     "output_type": "execute_result"
    },
    {
     "data": {
      "image/png": "[encoded data removed]",
      "text/plain": [
       "<Figure size 720x432 with 1 Axes>"
      ]
     },
     "metadata": {
      "image/png": {
       "height": 373,
       "width": 619
      },
      "needs_background": "light"
     },
     "output_type": "display_data"
    }
   ],
   "source": [
    "# \"지역\" 컬럼으로 확진자 빈도수를 구합니다.\n",
    "# gu_etc_count\n",
    "df[\"지역\"].value_counts().sort_values().plot.barh(figsize=(10,6), title=\"구별 확진자 수\")"
   ]
  },
  {
   "cell_type": "code",
   "execution_count": null,
   "metadata": {},
   "outputs": [],
   "source": []
  }
 ],
 "metadata": {
  "kernelspec": {
   "display_name": "Python 3",
   "language": "python",
   "name": "python3"
  },
  "language_info": {
   "codemirror_mode": {
    "name": "ipython",
    "version": 3
   },
   "file_extension": ".py",
   "mimetype": "text/x-python",
   "name": "python",
   "nbconvert_exporter": "python",
   "pygments_lexer": "ipython3",
   "version": "3.8.5"
  },
  "toc": {
   "base_numbering": 1,
   "nav_menu": {},
   "number_sections": true,
   "sideBar": true,
   "skip_h1_title": false,
   "title_cell": "Table of Contents",
   "title_sidebar": "Contents",
   "toc_cell": false,
   "toc_position": {},
   "toc_section_display": true,
   "toc_window_display": false
  }
 },
 "nbformat": 4,
 "nbformat_minor": 4
}
